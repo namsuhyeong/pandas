{
  "nbformat": 4,
  "nbformat_minor": 0,
  "metadata": {
    "colab": {
      "provenance": []
    },
    "kernelspec": {
      "name": "python3",
      "display_name": "Python 3"
    },
    "language_info": {
      "name": "python"
    }
  },
  "cells": [
    {
      "cell_type": "markdown",
      "source": [
        "# 새 섹션\n",
        "**굵은 텍스트**\n",
        "*이탤릭체 텍스트*\n",
        "\n",
        "\n",
        "```\n",
        "# 코드로 형식 지정됨\n",
        "```\n",
        "\n"
      ],
      "metadata": {
        "id": "aNqLj6OR1da_"
      }
    },
    {
      "cell_type": "markdown",
      "source": [
        "무작정 따라하는 파이썬\n",
        "\n",
        "\n",
        "*   멋진 삼행시 짓기_print()실습\n",
        "\n"
      ],
      "metadata": {
        "id": "4ItToc9D2qY8"
      }
    },
    {
      "cell_type": "code",
      "execution_count": 2,
      "metadata": {
        "colab": {
          "base_uri": "https://localhost:8080/"
        },
        "id": "1fhXoKAP0Vmw",
        "outputId": "d07dce80-27fa-46bc-fcad-0f657847425a"
      },
      "outputs": [
        {
          "output_type": "stream",
          "name": "stdout",
          "text": [
            "저는 자랑스러운 멀캠의 예비 데이터사이언티스트입니다.\n",
            "안녕하세요\n",
            "남수형입니다!\n"
          ]
        }
      ],
      "source": [
        "print(\"저는 자랑스러운 멀캠의 예비 데이터사이언티스트입니다.\")\n",
        "print(\"안녕하세요\")\n",
        "print(\"남수형입니다!\")"
      ]
    },
    {
      "cell_type": "markdown",
      "source": [
        "**기본자료형**"
      ],
      "metadata": {
        "id": "5cELrUK13uIb"
      }
    },
    {
      "cell_type": "code",
      "source": [
        "# 숫자 50과 숫자 50을 더해서 출력하기\n",
        "print(50+50)"
      ],
      "metadata": {
        "colab": {
          "base_uri": "https://localhost:8080/"
        },
        "id": "YVLh9AJZ3bsP",
        "outputId": "e19b65e4-c6ea-4cd7-ccf7-e5cdd8918b1b"
      },
      "execution_count": 3,
      "outputs": [
        {
          "output_type": "stream",
          "name": "stdout",
          "text": [
            "100\n"
          ]
        }
      ]
    },
    {
      "cell_type": "code",
      "source": [
        "# 문자열(string) \"50\"과 숫자 \"50\" 더해서 출력하기\n",
        "print(\"50\"+\"50\")"
      ],
      "metadata": {
        "colab": {
          "base_uri": "https://localhost:8080/"
        },
        "id": "WFXgaHVM385Z",
        "outputId": "47c14bb5-805c-4616-8bf3-24a9abf71e8c"
      },
      "execution_count": 4,
      "outputs": [
        {
          "output_type": "stream",
          "name": "stdout",
          "text": [
            "5050\n"
          ]
        }
      ]
    },
    {
      "cell_type": "code",
      "source": [
        "# 파이썬에 여러 개의 원(element. 숫자. 문자)를 답는 그릇 >> 리스트(list 목록)\n",
        "print([50]+[50])"
      ],
      "metadata": {
        "colab": {
          "base_uri": "https://localhost:8080/"
        },
        "id": "0W4F0Dek4TFL",
        "outputId": "18a1f4d4-5a33-4b00-f5a2-323a67a6cf3a"
      },
      "execution_count": 5,
      "outputs": [
        {
          "output_type": "stream",
          "name": "stdout",
          "text": [
            "[50, 50]\n"
          ]
        }
      ]
    },
    {
      "cell_type": "markdown",
      "source": [
        "# 변수\n",
        "*   변하는 수\n",
        "\n"
      ],
      "metadata": {
        "id": "0OPUMhqLGYiq"
      }
    },
    {
      "cell_type": "code",
      "source": [
        "# 파이썬 변수의 정의\n",
        "apple=1\n",
        "print(apple)"
      ],
      "metadata": {
        "colab": {
          "base_uri": "https://localhost:8080/"
        },
        "id": "slFji-ig43aC",
        "outputId": "b81d2a10-45ad-467e-f9d9-f8b435877d1c"
      },
      "execution_count": 7,
      "outputs": [
        {
          "output_type": "stream",
          "name": "stdout",
          "text": [
            "1\n"
          ]
        }
      ]
    },
    {
      "cell_type": "code",
      "source": [
        "Apple=\"사과\"\n",
        "print(Apple)"
      ],
      "metadata": {
        "colab": {
          "base_uri": "https://localhost:8080/"
        },
        "id": "_hAOLbqhGzEX",
        "outputId": "6408d662-5393-4399-f3a7-1b921fcea2a9"
      },
      "execution_count": 8,
      "outputs": [
        {
          "output_type": "stream",
          "name": "stdout",
          "text": [
            "사과\n"
          ]
        }
      ]
    },
    {
      "cell_type": "code",
      "source": [
        "# 정수와 소수(부동소수점/실수)\n",
        "a=1.2\n",
        "print(a)\n",
        "b=2\n",
        "print(b)\n",
        "print(a+b)"
      ],
      "metadata": {
        "colab": {
          "base_uri": "https://localhost:8080/"
        },
        "id": "oEGRW2XHG6AR",
        "outputId": "4abe9c50-6573-4afb-f4c8-518095afda2b"
      },
      "execution_count": 9,
      "outputs": [
        {
          "output_type": "stream",
          "name": "stdout",
          "text": [
            "1.2\n",
            "2\n",
            "3.2\n"
          ]
        }
      ]
    },
    {
      "cell_type": "code",
      "source": [
        "# 문자열\n",
        "가='hello'\n",
        "print(가)\n",
        "\n",
        "나=\" good morning\"\n",
        "# space(빈 공백)도 문자로 인식\n",
        "\n",
        "print(가+나)"
      ],
      "metadata": {
        "colab": {
          "base_uri": "https://localhost:8080/"
        },
        "id": "WjUXvQgQHOpW",
        "outputId": "409e8858-ab91-4273-daaa-ae82dda0c025"
      },
      "execution_count": 10,
      "outputs": [
        {
          "output_type": "stream",
          "name": "stdout",
          "text": [
            "hello\n",
            "hello good morning\n"
          ]
        }
      ]
    },
    {
      "cell_type": "code",
      "source": [
        "# bool\n",
        "\n",
        "a=True\n",
        "print(a)\n",
        "\n",
        "b=False\n",
        "print(b)"
      ],
      "metadata": {
        "colab": {
          "base_uri": "https://localhost:8080/"
        },
        "id": "Yx13GuObJ3cW",
        "outputId": "0ed50df3-33dc-4504-f27a-4700d5d6e24e"
      },
      "execution_count": 11,
      "outputs": [
        {
          "output_type": "stream",
          "name": "stdout",
          "text": [
            "True\n",
            "False\n"
          ]
        }
      ]
    },
    {
      "cell_type": "code",
      "source": [
        "print(a == b)\n",
        "# == : 같"
      ],
      "metadata": {
        "colab": {
          "base_uri": "https://localhost:8080/"
        },
        "id": "hijQzxE_KCKe",
        "outputId": "5ff44ac8-ad27-49c7-d582-1821c977bb39"
      },
      "execution_count": 12,
      "outputs": [
        {
          "output_type": "stream",
          "name": "stdout",
          "text": [
            "False\n"
          ]
        }
      ]
    },
    {
      "cell_type": "code",
      "source": [
        "print(a != b)"
      ],
      "metadata": {
        "colab": {
          "base_uri": "https://localhost:8080/"
        },
        "id": "KcJjOOAcKPVo",
        "outputId": "ba819e01-dd38-4b4d-bc27-2fd9c75798f3"
      },
      "execution_count": 14,
      "outputs": [
        {
          "output_type": "stream",
          "name": "stdout",
          "text": [
            "True\n"
          ]
        }
      ]
    },
    {
      "cell_type": "code",
      "source": [
        "# 추가\n",
        "# 변수에는 정수, 실수 같은 숫자를 저장할 수 있다.\n",
        "\n",
        "num1=1\n",
        "num2=2\n",
        "\n",
        "print(num1-num2)"
      ],
      "metadata": {
        "colab": {
          "base_uri": "https://localhost:8080/"
        },
        "id": "mnbmzQFlKTAt",
        "outputId": "51a4c740-e93c-4393-c3d4-c0017c78f158"
      },
      "execution_count": 15,
      "outputs": [
        {
          "output_type": "stream",
          "name": "stdout",
          "text": [
            "-1\n"
          ]
        }
      ]
    },
    {
      "cell_type": "code",
      "source": [
        "# 영어나 한글과 같은 문자도 저장이 가능하다\n",
        "char=\"a\"\n",
        "\n",
        "print(char)"
      ],
      "metadata": {
        "colab": {
          "base_uri": "https://localhost:8080/"
        },
        "id": "7ealBkSjKqhB",
        "outputId": "ebb1bb55-96ee-4133-e4b1-5f449064be7f"
      },
      "execution_count": 16,
      "outputs": [
        {
          "output_type": "stream",
          "name": "stdout",
          "text": [
            "a\n"
          ]
        }
      ]
    },
    {
      "cell_type": "code",
      "source": [
        "# 이런 문자들의 집합도 리스트로 저장할 수 있다.\n",
        "# 리스트 : 여러 원소(element)를 담는 그\n",
        "List=[1,a,'python']\n",
        "\n",
        "print(List)\n",
        "print(List[0])\n",
        "print(List[1])\n",
        "print(List[2])\n",
        "# print(List[3]) 애러 발생 인덱스 범위가 없음"
      ],
      "metadata": {
        "colab": {
          "base_uri": "https://localhost:8080/"
        },
        "id": "rbcIbJ-TK2qT",
        "outputId": "5c1475b6-7c4f-4cf4-abd2-51f1b6a06e37"
      },
      "execution_count": 57,
      "outputs": [
        {
          "output_type": "stream",
          "name": "stdout",
          "text": [
            "[1, '사과', 'python']\n",
            "1\n",
            "사과\n",
            "python\n"
          ]
        }
      ]
    },
    {
      "cell_type": "code",
      "source": [
        "# 리스트에 원소 개수\n",
        "len(List)\n",
        "# len : length"
      ],
      "metadata": {
        "colab": {
          "base_uri": "https://localhost:8080/"
        },
        "id": "rJ6k5SK9LQ03",
        "outputId": "21112421-41a0-4405-dea0-3ff200e57b0b"
      },
      "execution_count": 19,
      "outputs": [
        {
          "output_type": "execute_result",
          "data": {
            "text/plain": [
              "3"
            ]
          },
          "metadata": {},
          "execution_count": 19
        }
      ]
    },
    {
      "cell_type": "markdown",
      "source": [
        "# 파이썬 연산자"
      ],
      "metadata": {
        "id": "1DWziKU5Q5px"
      }
    },
    {
      "cell_type": "code",
      "source": [
        "# 할당 연산자\n",
        "a = 1\n",
        "a = a+1\n",
        "\n",
        "print(a)"
      ],
      "metadata": {
        "colab": {
          "base_uri": "https://localhost:8080/"
        },
        "id": "37vc-yrZLa9C",
        "outputId": "2165eb60-0415-41ab-ef97-b78707e0fa8a"
      },
      "execution_count": 28,
      "outputs": [
        {
          "output_type": "stream",
          "name": "stdout",
          "text": [
            "2\n"
          ]
        }
      ]
    },
    {
      "cell_type": "code",
      "source": [
        "a=1\n",
        "a+=1\n",
        "# a=a+1\n",
        "\n",
        "print(a)"
      ],
      "metadata": {
        "colab": {
          "base_uri": "https://localhost:8080/"
        },
        "id": "U8ALwT5LRE-h",
        "outputId": "98af4974-7167-4201-b3d4-c5e520fce2b8"
      },
      "execution_count": 25,
      "outputs": [
        {
          "output_type": "stream",
          "name": "stdout",
          "text": [
            "2\n"
          ]
        }
      ]
    },
    {
      "cell_type": "code",
      "source": [
        "b=1\n",
        "b-=2\n",
        "# b= b-2\n",
        "\n",
        "print(b)"
      ],
      "metadata": {
        "colab": {
          "base_uri": "https://localhost:8080/"
        },
        "id": "9KB_mfhkRJ4t",
        "outputId": "f20f1529-83ee-44a3-e634-b19502c666b8"
      },
      "execution_count": 27,
      "outputs": [
        {
          "output_type": "stream",
          "name": "stdout",
          "text": [
            "-1\n"
          ]
        }
      ]
    },
    {
      "cell_type": "code",
      "source": [
        "# 산술 연산자\n",
        "a=1\n",
        "b=32\n",
        "\n",
        "print(a>b)\n",
        "# True or False로 반환된다"
      ],
      "metadata": {
        "colab": {
          "base_uri": "https://localhost:8080/"
        },
        "id": "47MiEkieRh9Q",
        "outputId": "d6742eac-124b-46b3-edc0-5c8abcf7ee68"
      },
      "execution_count": 30,
      "outputs": [
        {
          "output_type": "stream",
          "name": "stdout",
          "text": [
            "False\n"
          ]
        }
      ]
    },
    {
      "cell_type": "code",
      "source": [
        "c = -3 # int\n",
        "d = -0.2 # float\n",
        "\n",
        "print(c<=d)"
      ],
      "metadata": {
        "colab": {
          "base_uri": "https://localhost:8080/"
        },
        "id": "BbBr9wWlR0PD",
        "outputId": "455544bd-18bb-4d27-96e8-274f28049ea7"
      },
      "execution_count": 31,
      "outputs": [
        {
          "output_type": "stream",
          "name": "stdout",
          "text": [
            "True\n"
          ]
        }
      ]
    },
    {
      "cell_type": "code",
      "source": [
        "a=1\n",
        "b=32\n",
        "\n",
        "print(a==b)"
      ],
      "metadata": {
        "colab": {
          "base_uri": "https://localhost:8080/"
        },
        "id": "---Oc2fxSJFf",
        "outputId": "23358615-ba43-4714-e68b-1dcb2886e917"
      },
      "execution_count": 32,
      "outputs": [
        {
          "output_type": "stream",
          "name": "stdout",
          "text": [
            "False\n"
          ]
        }
      ]
    },
    {
      "cell_type": "code",
      "source": [
        "c = -3 # int\n",
        "d = -0.2 # float\n",
        "\n",
        "print(c!=d)"
      ],
      "metadata": {
        "colab": {
          "base_uri": "https://localhost:8080/"
        },
        "id": "_svP65uzSRx9",
        "outputId": "e56d3c38-d987-44bf-e6c3-9867f6c1d715"
      },
      "execution_count": 33,
      "outputs": [
        {
          "output_type": "stream",
          "name": "stdout",
          "text": [
            "True\n"
          ]
        }
      ]
    },
    {
      "cell_type": "code",
      "source": [
        "# 논리연산자(and, or, not)\n",
        "\n",
        "a = True\n",
        "b = False\n",
        "\n",
        "print(a and b)\n",
        "print(a or b)\n",
        "print(not a)\n",
        "print(not b)"
      ],
      "metadata": {
        "colab": {
          "base_uri": "https://localhost:8080/"
        },
        "id": "mMYh9VETSVAl",
        "outputId": "9f6ebfd9-fcc3-45ed-852c-b2a32eaa55e2"
      },
      "execution_count": 36,
      "outputs": [
        {
          "output_type": "stream",
          "name": "stdout",
          "text": [
            "False\n",
            "True\n",
            "False\n",
            "True\n"
          ]
        }
      ]
    },
    {
      "cell_type": "code",
      "source": [
        "# 맴버(member, 소속) 연산자(in / not in)\n",
        "a = \"사과\"\n",
        "b=['사과','배','참외','수박','복숭아']\n",
        "\n",
        "print(a in b)"
      ],
      "metadata": {
        "colab": {
          "base_uri": "https://localhost:8080/"
        },
        "id": "iMnWGfwbSsDY",
        "outputId": "2e41134c-b0af-44cf-afb5-2f7c21a94ac1"
      },
      "execution_count": 37,
      "outputs": [
        {
          "output_type": "stream",
          "name": "stdout",
          "text": [
            "True\n"
          ]
        }
      ]
    },
    {
      "cell_type": "code",
      "source": [
        "c = 'apple'\n",
        "d = ['Apple','pear', 'watermelon', 'peach']\n",
        "\n",
        "print(c in d)\n",
        "# 대소문자 구분"
      ],
      "metadata": {
        "colab": {
          "base_uri": "https://localhost:8080/"
        },
        "id": "OZhQT2Z3TRrl",
        "outputId": "4276bb6a-6d76-4dc0-80f8-db0a481707fc"
      },
      "execution_count": 38,
      "outputs": [
        {
          "output_type": "stream",
          "name": "stdout",
          "text": [
            "False\n"
          ]
        }
      ]
    },
    {
      "cell_type": "code",
      "source": [
        "# 식별 인식자(is)\n",
        "\n",
        "a = '사과'\n",
        "b = '사과'\n",
        "\n",
        "print(type(a))\n",
        "print(type(b))\n",
        "\n",
        "print(a is b)"
      ],
      "metadata": {
        "colab": {
          "base_uri": "https://localhost:8080/"
        },
        "id": "QjjRZKNPTfFq",
        "outputId": "853632d5-4c57-4a4c-cdf9-698cfcd9add7"
      },
      "execution_count": 53,
      "outputs": [
        {
          "output_type": "stream",
          "name": "stdout",
          "text": [
            "<class 'str'>\n",
            "<class 'str'>\n",
            "False\n"
          ]
        }
      ]
    },
    {
      "cell_type": "code",
      "source": [
        "c=12\n",
        "d=12\n",
        "\n",
        "print(c is not d)"
      ],
      "metadata": {
        "colab": {
          "base_uri": "https://localhost:8080/"
        },
        "id": "QfPg1Ag3Tw58",
        "outputId": "092008b1-a365-4bcc-eb97-df984835213a"
      },
      "execution_count": 49,
      "outputs": [
        {
          "output_type": "stream",
          "name": "stdout",
          "text": [
            "False\n"
          ]
        }
      ]
    },
    {
      "cell_type": "code",
      "source": [
        "'''\n",
        "1. 'is' 와 '==' 동등성 비교\n",
        "2. '==' 연산자 : 두 객체(a,b...) 값이 동일한지 비교\n",
        "3. 'is' 연산자 : 두 객체(a,b...) 식별자가 동일한지 비교\n",
        "'''\n"
      ],
      "metadata": {
        "colab": {
          "base_uri": "https://localhost:8080/",
          "height": 35
        },
        "id": "4QUNQbYdT4_S",
        "outputId": "ac39d9f8-9732-46e9-e2e0-5a8743bc865b"
      },
      "execution_count": 51,
      "outputs": [
        {
          "output_type": "execute_result",
          "data": {
            "text/plain": [
              "\"\\n1. 'is' 와 '==' 동등성 비교\\n2. '==' 연산자 : 두 객체(a,b...) 값이 동일한지 비교\\n3. 'is' 연산자 : 두 객체(a,b...) 식별자가 동일한지 비교\\n\""
            ],
            "application/vnd.google.colaboratory.intrinsic+json": {
              "type": "string"
            }
          },
          "metadata": {},
          "execution_count": 51
        }
      ]
    },
    {
      "cell_type": "code",
      "source": [
        "a=[1,2,3]\n",
        "b=[1,2,3]\n",
        "c=a\n",
        "\n",
        "print(a==b) # 값 비교\n",
        "print(a is b) # a와 b는 값은 같으나 서로 다른 메모리 위치에 있음"
      ],
      "metadata": {
        "colab": {
          "base_uri": "https://localhost:8080/"
        },
        "id": "Wj76GQyaUx8o",
        "outputId": "769bf7c3-5fc8-451e-8679-731ad2f0aecf"
      },
      "execution_count": 45,
      "outputs": [
        {
          "output_type": "stream",
          "name": "stdout",
          "text": [
            "True\n",
            "False\n"
          ]
        }
      ]
    },
    {
      "cell_type": "code",
      "source": [
        "print(a is c)\n",
        "# a와 c는 동일한 객체를 참조함"
      ],
      "metadata": {
        "colab": {
          "base_uri": "https://localhost:8080/"
        },
        "id": "ByKfXeqlU_TO",
        "outputId": "3b7a8af5-03fc-4b59-fb72-3239c1bc6619"
      },
      "execution_count": 46,
      "outputs": [
        {
          "output_type": "stream",
          "name": "stdout",
          "text": [
            "True\n"
          ]
        }
      ]
    },
    {
      "cell_type": "code",
      "source": [
        "e=1,2,3\n",
        "print(e)\n",
        "print(type(e)) # tuple"
      ],
      "metadata": {
        "colab": {
          "base_uri": "https://localhost:8080/"
        },
        "id": "g7osP_mdVnZ1",
        "outputId": "1c373c4c-a8f2-4d22-d877-7271f2b9e6c8"
      },
      "execution_count": 47,
      "outputs": [
        {
          "output_type": "stream",
          "name": "stdout",
          "text": [
            "(1, 2, 3)\n",
            "<class 'tuple'>\n"
          ]
        }
      ]
    },
    {
      "cell_type": "code",
      "source": [
        "f=[1,2,3]\n",
        "print(f)\n",
        "print(type(f)) # list"
      ],
      "metadata": {
        "colab": {
          "base_uri": "https://localhost:8080/"
        },
        "id": "QK9I6TCyZ3fd",
        "outputId": "320a2550-ff39-4eee-a9b2-3897bed3345f"
      },
      "execution_count": 48,
      "outputs": [
        {
          "output_type": "stream",
          "name": "stdout",
          "text": [
            "[1, 2, 3]\n",
            "<class 'list'>\n"
          ]
        }
      ]
    },
    {
      "cell_type": "code",
      "source": [
        "my_var_1='a'\n",
        "my_var_2=List\n",
        "# 같은 자료형이야 가능\n",
        "print(my_var_1+my_var_2[2])\n"
      ],
      "metadata": {
        "colab": {
          "base_uri": "https://localhost:8080/"
        },
        "id": "dq4xazqnZ92f",
        "outputId": "2bfee7e7-d68a-4efe-e5e0-027a7a256eb3"
      },
      "execution_count": 60,
      "outputs": [
        {
          "output_type": "stream",
          "name": "stdout",
          "text": [
            "apython\n"
          ]
        }
      ]
    },
    {
      "cell_type": "code",
      "source": [
        "# 변수에 문자열로 된 정수와 실수를 저장하면\n",
        "\n",
        "a = '345' # 문자>> 정수\n",
        "b = '3.14'# 문자 >> 실수\n",
        "\n",
        "print(a)\n",
        "print(b)\n",
        "\n",
        "print(type(a))\n",
        "print(type(b))"
      ],
      "metadata": {
        "colab": {
          "base_uri": "https://localhost:8080/"
        },
        "id": "EzPRMDI5dIvl",
        "outputId": "1c25b3a9-e5ca-41d9-d025-e0c16d4f52cb"
      },
      "execution_count": 63,
      "outputs": [
        {
          "output_type": "stream",
          "name": "stdout",
          "text": [
            "345\n",
            "3.14\n",
            "<class 'str'>\n",
            "<class 'str'>\n"
          ]
        }
      ]
    },
    {
      "cell_type": "code",
      "source": [
        "print(int(a))\n",
        "a=int(a)\n",
        "print(type(a))\n",
        "\n",
        "print(float(b))\n",
        "b=float(b)\n",
        "print(type(b))"
      ],
      "metadata": {
        "colab": {
          "base_uri": "https://localhost:8080/"
        },
        "id": "LVgJo9wne59p",
        "outputId": "d0cc4e29-70fc-44d4-aa72-a34dbdbf66db"
      },
      "execution_count": 69,
      "outputs": [
        {
          "output_type": "stream",
          "name": "stdout",
          "text": [
            "3\n",
            "<class 'int'>\n",
            "3.14\n",
            "<class 'float'>\n"
          ]
        }
      ]
    },
    {
      "cell_type": "code",
      "source": [],
      "metadata": {
        "id": "F3AOkEWcfKF3"
      },
      "execution_count": null,
      "outputs": []
    }
  ]
}