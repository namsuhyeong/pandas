{
  "nbformat": 4,
  "nbformat_minor": 0,
  "metadata": {
    "colab": {
      "provenance": []
    },
    "kernelspec": {
      "name": "python3",
      "display_name": "Python 3"
    },
    "language_info": {
      "name": "python"
    }
  },
  "cells": [
    {
      "cell_type": "markdown",
      "source": [
        "pandas 기본문법"
      ],
      "metadata": {
        "id": "_5OPSRhakuEW"
      }
    },
    {
      "cell_type": "code",
      "execution_count": 3,
      "metadata": {
        "colab": {
          "base_uri": "https://localhost:8080/"
        },
        "id": "Kh9naVBukgsl",
        "outputId": "94554e07-b79c-430b-91bd-26a9a464f756"
      },
      "outputs": [
        {
          "output_type": "stream",
          "name": "stdout",
          "text": [
            "a    1\n",
            "b    2\n",
            "c    3\n",
            "dtype: int64\n"
          ]
        }
      ],
      "source": [
        "import pandas as pd\n",
        "# 판다스 패키지 모듈 가져와 >> 별명 pd\n",
        "\n",
        "dict_={'a': 1, 'b': 2, 'c' : 3}\n",
        "\n",
        "# print(dict_)\n",
        "\n",
        "print(pd.Series(data=dict_))\n",
        "# Series는 index와 value가 있음\n"
      ]
    },
    {
      "cell_type": "code",
      "source": [
        "sr = pd.Series(data=dict_)\n",
        "print(type(sr))"
      ],
      "metadata": {
        "colab": {
          "base_uri": "https://localhost:8080/"
        },
        "id": "rOQAx720lNxH",
        "outputId": "c693cb94-25cc-47fe-e107-2d712a4f9990"
      },
      "execution_count": 4,
      "outputs": [
        {
          "output_type": "stream",
          "name": "stdout",
          "text": [
            "<class 'pandas.core.series.Series'>\n"
          ]
        }
      ]
    },
    {
      "cell_type": "code",
      "source": [
        "d = {'col':[1,2],'col2':[3,4]}\n",
        "\n",
        "# print(d)\n",
        "\n",
        "df=pd.DataFrame(data=d)\n",
        "print(df)\n",
        "# 데이터프레임 : 행렬 구조 (index, colum)"
      ],
      "metadata": {
        "colab": {
          "base_uri": "https://localhost:8080/"
        },
        "id": "XufZJ-yalqhA",
        "outputId": "6c440c09-7870-436b-aef8-b2d87b89d5f6"
      },
      "execution_count": 7,
      "outputs": [
        {
          "output_type": "stream",
          "name": "stdout",
          "text": [
            "   col  col2\n",
            "0    1     3\n",
            "1    2     4\n"
          ]
        }
      ]
    },
    {
      "cell_type": "code",
      "source": [
        "df['col']\n",
        "# 컬럼명으로 접근해야함\n",
        "# 결과는 Series로 출력됨"
      ],
      "metadata": {
        "colab": {
          "base_uri": "https://localhost:8080/"
        },
        "id": "ox0bOfYHl2C9",
        "outputId": "2614d4a2-87b9-45eb-ac36-a3e3cfe667ba"
      },
      "execution_count": 8,
      "outputs": [
        {
          "output_type": "execute_result",
          "data": {
            "text/plain": [
              "0    1\n",
              "1    2\n",
              "Name: col, dtype: int64"
            ]
          },
          "metadata": {},
          "execution_count": 8
        }
      ]
    },
    {
      "cell_type": "code",
      "source": [
        "print(df)\n",
        "print(type(df))"
      ],
      "metadata": {
        "colab": {
          "base_uri": "https://localhost:8080/"
        },
        "id": "322JhrrHmMg9",
        "outputId": "c3668bdc-282a-4efa-fa68-88e8ff66a847"
      },
      "execution_count": 9,
      "outputs": [
        {
          "output_type": "stream",
          "name": "stdout",
          "text": [
            "   col  col2\n",
            "0    1     3\n",
            "1    2     4\n",
            "<class 'pandas.core.frame.DataFrame'>\n"
          ]
        }
      ]
    },
    {
      "cell_type": "code",
      "source": [],
      "metadata": {
        "id": "ySZPQxwCmVec"
      },
      "execution_count": null,
      "outputs": []
    }
  ]
}