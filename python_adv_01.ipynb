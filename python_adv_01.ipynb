{
 "cells": [
  {
   "cell_type": "markdown",
   "id": "253c3ddd-da5c-4a99-b3ef-84ac4d4269f1",
   "metadata": {},
   "source": [
    "변수"
   ]
  },
  {
   "cell_type": "code",
   "execution_count": 1,
   "id": "1c54b820-32e5-49e0-9ba8-2819beb53942",
   "metadata": {},
   "outputs": [
    {
     "name": "stdout",
     "output_type": "stream",
     "text": [
      "1\n"
     ]
    }
   ],
   "source": [
    "a = 1\n",
    "\n",
    "print(a)"
   ]
  },
  {
   "cell_type": "code",
   "execution_count": 2,
   "id": "4472ec04-4497-4c88-b234-136b560415f6",
   "metadata": {},
   "outputs": [
    {
     "name": "stdout",
     "output_type": "stream",
     "text": [
      "5\n"
     ]
    }
   ],
   "source": [
    "b = 5\n",
    "a = b\n",
    "# 얕은 복사\n",
    "print(a)"
   ]
  },
  {
   "cell_type": "markdown",
   "id": "8022e81e-bb03-45c5-bc87-fa16d3f6415a",
   "metadata": {},
   "source": [
    "데이터 타입(dtype)"
   ]
  },
  {
   "cell_type": "code",
   "execution_count": 4,
   "id": "30f6a95d-86c2-4b76-937c-6c585b47fc6a",
   "metadata": {},
   "outputs": [
    {
     "name": "stdout",
     "output_type": "stream",
     "text": [
      "1 5 3.3 0.5\n",
      "<class 'int'> <class 'int'> <class 'float'> <class 'float'>\n"
     ]
    }
   ],
   "source": [
    "# 숫자형\n",
    "a =1 ; b =5 ; c=3.3 ; d=0.5\n",
    "\n",
    "print(a,b,c,d)\n",
    "print(type(a),type(b),type(c),type(d))"
   ]
  },
  {
   "cell_type": "code",
   "execution_count": 5,
   "id": "3a63ede1-bde9-4571-b1c0-e244e92c7720",
   "metadata": {},
   "outputs": [
    {
     "name": "stdout",
     "output_type": "stream",
     "text": [
      "6 -4 5 0.2\n",
      "1.0\n",
      "0.0\n",
      "1.0\n"
     ]
    }
   ],
   "source": [
    "# 연산\n",
    "print(a+b,a-b,a*b,a/b)\n",
    "print(a**c)\n",
    "print(a//c)\n",
    "print(a%c)"
   ]
  },
  {
   "cell_type": "code",
   "execution_count": 8,
   "id": "8b127c04-2fa7-4829-bd02-4bd84f8c0a08",
   "metadata": {},
   "outputs": [
    {
     "name": "stdout",
     "output_type": "stream",
     "text": [
      "pythonprogramming\n",
      "pythonpython\n"
     ]
    }
   ],
   "source": [
    "# 문자열 형\n",
    "str1 ='python'\n",
    "str2='programming'\n",
    "print(str1+str2)\n",
    "print(str1*2)"
   ]
  },
  {
   "cell_type": "code",
   "execution_count": 14,
   "id": "9d4b46ff-8174-4452-bbba-c032ee68adc4",
   "metadata": {},
   "outputs": [
    {
     "name": "stdout",
     "output_type": "stream",
     "text": [
      "p\n",
      "n\n",
      "18\n",
      "p\n",
      "********************\n",
      "yth\n",
      "python\n",
      "ing\n"
     ]
    }
   ],
   "source": [
    "# 문자열 인덱싱 & 슬라이싱\n",
    "\n",
    "str = 'python programming'\n",
    "print(str[0]) # 인덱싱(특정 위치 값 추출)\n",
    "print(str[-2])\n",
    "print(len(str)) # 데이터 크기(길이)\n",
    "print(str[-18]) \n",
    "print('*'*20)\n",
    "\n",
    "print(str[1:4])\n",
    "print(str[:6])\n",
    "print(str[-3:])"
   ]
  },
  {
   "cell_type": "code",
   "execution_count": 19,
   "id": "ebfa7708-09d7-4207-9ef7-5cca4c277756",
   "metadata": {},
   "outputs": [
    {
     "name": "stdout",
     "output_type": "stream",
     "text": [
      "오늘은 28 일 입니다.\n",
      "오늘은 목요일입니다.\n",
      "지금 온도는 36.50도 입니다\n"
     ]
    }
   ],
   "source": [
    "# 문자열 포맷팅\n",
    "# f'{}' : f-string\n",
    "\n",
    "print('오늘은 %d 일 입니다.' %28)\n",
    "print('오늘은 %s요일입니다.'%'목')\n",
    "print('지금 온도는 %0.2f도 입니다'%36.5)"
   ]
  },
  {
   "cell_type": "markdown",
   "id": "74563727-85ab-4625-9e38-07e226cc4d5d",
   "metadata": {},
   "source": [
    "- %s : string 문자열\n",
    "- %c : 단일문자(character : char)\n",
    "- %d : 정수(int)\n",
    "- %x : 16진수 "
   ]
  },
  {
   "cell_type": "code",
   "execution_count": 21,
   "id": "79aa1b25-cf5e-494d-a6d2-166815e101a3",
   "metadata": {},
   "outputs": [
    {
     "name": "stdout",
     "output_type": "stream",
     "text": [
      "2\n"
     ]
    }
   ],
   "source": [
    "# 문자열 내장 함수\n",
    "\n",
    "# count()\n",
    "str = 'python programming'\n",
    "print(str.count('p'))"
   ]
  },
  {
   "cell_type": "code",
   "execution_count": 22,
   "id": "27f71b95-9f31-440c-a3db-6ac997809a70",
   "metadata": {},
   "outputs": [
    {
     "data": {
      "text/plain": [
       "'p_y_t_h_o_n_ _p_r_o_g_r_a_m_m_i_n_g'"
      ]
     },
     "execution_count": 22,
     "metadata": {},
     "output_type": "execute_result"
    }
   ],
   "source": [
    "# join()\n",
    "\n",
    "'_'.join(str)"
   ]
  },
  {
   "cell_type": "code",
   "execution_count": 23,
   "id": "c9fb775c-d72e-46cb-9f20-1315cae656c3",
   "metadata": {},
   "outputs": [
    {
     "data": {
      "text/plain": [
       "5"
      ]
     },
     "execution_count": 23,
     "metadata": {},
     "output_type": "execute_result"
    }
   ],
   "source": [
    "# find()\n",
    "str.find('n')"
   ]
  },
  {
   "cell_type": "code",
   "execution_count": 24,
   "id": "ab23bc8f-e46a-49a0-97c5-f7f889485567",
   "metadata": {},
   "outputs": [
    {
     "name": "stdout",
     "output_type": "stream",
     "text": [
      "PYTHON PROGRAMMING\n"
     ]
    },
    {
     "data": {
      "text/plain": [
       "'python programming'"
      ]
     },
     "execution_count": 24,
     "metadata": {},
     "output_type": "execute_result"
    }
   ],
   "source": [
    "# upper(), Lower()\n",
    "\n",
    "print(str.upper())\n",
    "str2 = 'PYTHON PROGRAMMING'\n",
    "str2.lower()"
   ]
  },
  {
   "cell_type": "code",
   "execution_count": 26,
   "id": "1791f0df-ffbe-4013-897c-706019a409cc",
   "metadata": {},
   "outputs": [
    {
     "data": {
      "text/plain": [
       "'java programming'"
      ]
     },
     "execution_count": 26,
     "metadata": {},
     "output_type": "execute_result"
    }
   ],
   "source": [
    "# replace(***)\n",
    "str.replace('python','java')"
   ]
  },
  {
   "cell_type": "code",
   "execution_count": 27,
   "id": "5e7bc768-31eb-4b6b-9cd5-3f29321520e4",
   "metadata": {},
   "outputs": [
    {
     "data": {
      "text/plain": [
       "['python', 'programming']"
      ]
     },
     "execution_count": 27,
     "metadata": {},
     "output_type": "execute_result"
    }
   ],
   "source": [
    "# split(***)\n",
    "str.split(\" \")"
   ]
  },
  {
   "cell_type": "markdown",
   "id": "ac22ebaa-4716-45ea-a9e2-c9053eb810d9",
   "metadata": {},
   "source": [
    "연산자"
   ]
  },
  {
   "cell_type": "code",
   "execution_count": 29,
   "id": "d2e61541-6415-45c4-bb90-35f1ecebdd7b",
   "metadata": {},
   "outputs": [
    {
     "name": "stdout",
     "output_type": "stream",
     "text": [
      "30\n",
      "10\n",
      "200\n",
      "2.0\n",
      "2\n",
      "0\n",
      "10240000000000\n"
     ]
    }
   ],
   "source": [
    "# 산술 연산자\n",
    "a=20 ; b=10\n",
    "print(a+b)\n",
    "print(a-b)\n",
    "print(a*b)\n",
    "print(a/b)\n",
    "print(a//b)\n",
    "print(a%b)\n",
    "print(a**b)"
   ]
  },
  {
   "cell_type": "code",
   "execution_count": 31,
   "id": "d4a1c5b1-3f30-4f77-8caf-dece70b73d4a",
   "metadata": {},
   "outputs": [
    {
     "name": "stdout",
     "output_type": "stream",
     "text": [
      "False\n",
      "True\n",
      "False\n",
      "False\n",
      "True\n"
     ]
    }
   ],
   "source": [
    "# 비교 연산자\n",
    "print(a<b)\n",
    "print(a>b)\n",
    "print(a<=b)\n",
    "print(a==b)\n",
    "print(a!=b)"
   ]
  },
  {
   "cell_type": "code",
   "execution_count": 35,
   "id": "8a9ee551-4842-4b80-8ce7-eadf453b67c0",
   "metadata": {},
   "outputs": [
    {
     "name": "stdout",
     "output_type": "stream",
     "text": [
      "False\n",
      "True\n"
     ]
    }
   ],
   "source": [
    "# 논리 연산자\n",
    "a=True\n",
    "b=False\n",
    "\n",
    "print(a and b)\n",
    "print(a or b)"
   ]
  },
  {
   "cell_type": "code",
   "execution_count": 37,
   "id": "ccdff47a-b923-487b-9278-6e581f95bf8f",
   "metadata": {},
   "outputs": [
    {
     "data": {
      "text/plain": [
       "True"
      ]
     },
     "execution_count": 37,
     "metadata": {},
     "output_type": "execute_result"
    }
   ],
   "source": [
    "not b"
   ]
  },
  {
   "cell_type": "code",
   "execution_count": 39,
   "id": "9ee060ed-321f-4a20-a2f5-88799dac5711",
   "metadata": {},
   "outputs": [
    {
     "name": "stdout",
     "output_type": "stream",
     "text": [
      "20\n"
     ]
    }
   ],
   "source": [
    "# 복합 대입 연산자\n",
    "a = 10\n",
    "a = a+10\n",
    "print(a)"
   ]
  },
  {
   "cell_type": "code",
   "execution_count": 40,
   "id": "4f11a167-c660-4949-ba4b-058dee5d9fc0",
   "metadata": {},
   "outputs": [
    {
     "name": "stdout",
     "output_type": "stream",
     "text": [
      "30\n"
     ]
    }
   ],
   "source": [
    "a+=10\n",
    "print(a)"
   ]
  },
  {
   "cell_type": "code",
   "execution_count": 41,
   "id": "acb47d29-0bac-42fb-aefc-2b8554826bbd",
   "metadata": {},
   "outputs": [
    {
     "name": "stdout",
     "output_type": "stream",
     "text": [
      "20\n"
     ]
    }
   ],
   "source": [
    "a -=10\n",
    "print(a)"
   ]
  },
  {
   "cell_type": "code",
   "execution_count": 42,
   "id": "77ae222f-10e8-48d8-8b5f-da5439824f08",
   "metadata": {},
   "outputs": [
    {
     "name": "stdout",
     "output_type": "stream",
     "text": [
      "200\n"
     ]
    }
   ],
   "source": [
    "a*=10\n",
    "print(a)"
   ]
  },
  {
   "cell_type": "code",
   "execution_count": 43,
   "id": "be853f7d-9f7b-457f-b372-bfaec8bb7588",
   "metadata": {},
   "outputs": [
    {
     "name": "stdout",
     "output_type": "stream",
     "text": [
      "20.0\n"
     ]
    }
   ],
   "source": [
    "a/=10\n",
    "print(a)"
   ]
  },
  {
   "cell_type": "markdown",
   "id": "71379a09-10ae-48fb-8876-0974ee56ed65",
   "metadata": {},
   "source": [
    "조건문과 반복문"
   ]
  },
  {
   "cell_type": "code",
   "execution_count": 44,
   "id": "0c8099cb-d7dd-4074-b94e-f27f2bd97de5",
   "metadata": {},
   "outputs": [
    {
     "name": "stdout",
     "output_type": "stream",
     "text": [
      "a는 양의 정수입니다.\n"
     ]
    }
   ],
   "source": [
    "# 조건문\n",
    "\n",
    "a=10\n",
    "if (a>0):\n",
    "    print('a는 양의 정수입니다.')"
   ]
  },
  {
   "cell_type": "code",
   "execution_count": 48,
   "id": "986a070b-031d-419a-8645-d4049a74f63c",
   "metadata": {},
   "outputs": [],
   "source": [
    "a=10\n",
    "if (a<0):\n",
    "    print('a는 양의 정수입니다.')"
   ]
  },
  {
   "cell_type": "code",
   "execution_count": 49,
   "id": "7b086d73-6aef-4b52-a8bd-49ca61e91d59",
   "metadata": {},
   "outputs": [
    {
     "name": "stdout",
     "output_type": "stream",
     "text": [
      "10\n"
     ]
    }
   ],
   "source": [
    "a=10\n",
    "if (a<0):\n",
    "    print('a는 양의 정수입니다.')\n",
    "\n",
    "print(a)"
   ]
  },
  {
   "cell_type": "code",
   "execution_count": 50,
   "id": "dbb10a54-8deb-454f-90ce-c03984da4b0d",
   "metadata": {},
   "outputs": [
    {
     "name": "stdout",
     "output_type": "stream",
     "text": [
      "b는 -10입니다.\n",
      "b는 음의 정수입니다.\n"
     ]
    }
   ],
   "source": [
    "# if ~ else\n",
    "b=-10\n",
    "\n",
    "if(b>0):\n",
    "    print(f'b는 {b}입니다.')\n",
    "    print('b는 양의 정수입니다.')\n",
    "\n",
    "else:\n",
    "    print(f'b는 {b}입니다.')\n",
    "    print('b는 음의 정수입니다.')"
   ]
  },
  {
   "cell_type": "code",
   "execution_count": 52,
   "id": "6a74ec78-49a1-41f7-b890-156d0159d549",
   "metadata": {},
   "outputs": [
    {
     "name": "stdout",
     "output_type": "stream",
     "text": [
      "a는 음의 정수입니다.\n"
     ]
    }
   ],
   "source": [
    "# if ~elif ~else\n",
    "\n",
    "a= -10\n",
    "if(a>0):\n",
    "    print('a는 양의 정수입니다.')\n",
    "elif(a==0):\n",
    "    print('a는 0입니다.')\n",
    "\n",
    "else:\n",
    "    print('a는 음의 정수입니다.')"
   ]
  },
  {
   "cell_type": "code",
   "execution_count": 56,
   "id": "fbbaefe7-aaf2-4647-bdb5-e368d8e948ce",
   "metadata": {},
   "outputs": [
    {
     "name": "stdin",
     "output_type": "stream",
     "text": [
      "첫 번째 정수를 입력하세요:  20\n",
      "두 번째 정수를 입력하세요:  50\n",
      "세 번째 정수를 입력하세요:  30\n"
     ]
    },
    {
     "name": "stdout",
     "output_type": "stream",
     "text": [
      "가장 큰 수는: 50\n"
     ]
    }
   ],
   "source": [
    "### 실제 코딩 테스트에 나온 문제\n",
    "\n",
    "# a,b,c 세 정수형 변수\n",
    "# 이 중에서 가장 큰 수(big) 찾아서 출력\n",
    "# 사용자 입력을 받으세요 >>\n",
    "\n",
    "\n",
    "a = int(input(\"첫 번째 정수를 입력하세요: \"))\n",
    "b = int(input(\"두 번째 정수를 입력하세요: \"))\n",
    "c = int(input(\"세 번째 정수를 입력하세요: \"))\n",
    "\n",
    "big = a\n",
    "if b > big:\n",
    "    big = b\n",
    "if c > big:\n",
    "    big = c\n",
    "\n",
    "print(\"가장 큰 수는:\", big)\n"
   ]
  },
  {
   "cell_type": "markdown",
   "id": "df24e0fe-05d3-404a-b2f7-8ff81cceb780",
   "metadata": {},
   "source": [
    "반복문"
   ]
  },
  {
   "cell_type": "code",
   "execution_count": 57,
   "id": "e5f8c500-a128-4906-9e2b-22dbf1e8474b",
   "metadata": {},
   "outputs": [
    {
     "name": "stdout",
     "output_type": "stream",
     "text": [
      "python programming\n",
      "python programming\n",
      "python programming\n",
      "python programming\n",
      "python programming\n"
     ]
    }
   ],
   "source": [
    "for i in range(5):\n",
    "    print('python programming')"
   ]
  },
  {
   "cell_type": "code",
   "execution_count": 59,
   "id": "febadbbc-40fb-433d-abfd-dd36d04b7f47",
   "metadata": {},
   "outputs": [
    {
     "name": "stdout",
     "output_type": "stream",
     "text": [
      "i의 값: 1, 합계: 1\n",
      "i의 값: 2, 합계: 3\n",
      "i의 값: 3, 합계: 6\n",
      "i의 값: 4, 합계: 10\n",
      "i의 값: 5, 합계: 15\n"
     ]
    }
   ],
   "source": [
    "sum = 0\n",
    "\n",
    "for i in range(1,6):\n",
    "    sum = sum + i\n",
    "    print(f'i의 값: {i}, 합계: {sum}')"
   ]
  },
  {
   "cell_type": "code",
   "execution_count": 60,
   "id": "47c3fb1b-d49d-4583-9854-eac58a88f405",
   "metadata": {},
   "outputs": [
    {
     "name": "stdout",
     "output_type": "stream",
     "text": [
      "1 3 5 7 9 "
     ]
    }
   ],
   "source": [
    "for i in range(1,10,2):\n",
    "    print(i,end=' ')"
   ]
  },
  {
   "cell_type": "code",
   "execution_count": 63,
   "id": "c401a6ce-e9eb-4d12-bce2-64d875e5d840",
   "metadata": {},
   "outputs": [
    {
     "name": "stdout",
     "output_type": "stream",
     "text": [
      "m u l t i - c a m p u s "
     ]
    }
   ],
   "source": [
    "for char in 'multi-campus':\n",
    "    print(char, end=' ')"
   ]
  },
  {
   "cell_type": "code",
   "execution_count": 65,
   "id": "897cec76-e14b-493d-aa9d-0ed8ca7b2784",
   "metadata": {},
   "outputs": [
    {
     "name": "stdout",
     "output_type": "stream",
     "text": [
      "1 2 3 4 2 4 6 8 3 6 9 12 4 8 12 16 "
     ]
    }
   ],
   "source": [
    "for i in range(1,5):\n",
    "    for j in range(1,5):\n",
    "        print(i*j, end=' ')"
   ]
  },
  {
   "cell_type": "code",
   "execution_count": 67,
   "id": "e2df4163-8fc9-47f8-9d5f-ac9a88060fe6",
   "metadata": {},
   "outputs": [
    {
     "name": "stdout",
     "output_type": "stream",
     "text": [
      "2*1=2\n",
      "2*2=4\n",
      "2*3=6\n",
      "2*4=8\n",
      "2*5=10\n",
      "2*6=12\n",
      "2*7=14\n",
      "2*8=16\n",
      "2*9=18\n",
      "**********\n",
      "3*1=3\n",
      "3*2=6\n",
      "3*3=9\n",
      "3*4=12\n",
      "3*5=15\n",
      "3*6=18\n",
      "3*7=21\n",
      "3*8=24\n",
      "3*9=27\n",
      "**********\n",
      "4*1=4\n",
      "4*2=8\n",
      "4*3=12\n",
      "4*4=16\n",
      "4*5=20\n",
      "4*6=24\n",
      "4*7=28\n",
      "4*8=32\n",
      "4*9=36\n",
      "**********\n",
      "5*1=5\n",
      "5*2=10\n",
      "5*3=15\n",
      "5*4=20\n",
      "5*5=25\n",
      "5*6=30\n",
      "5*7=35\n",
      "5*8=40\n",
      "5*9=45\n",
      "**********\n",
      "6*1=6\n",
      "6*2=12\n",
      "6*3=18\n",
      "6*4=24\n",
      "6*5=30\n",
      "6*6=36\n",
      "6*7=42\n",
      "6*8=48\n",
      "6*9=54\n",
      "**********\n",
      "7*1=7\n",
      "7*2=14\n",
      "7*3=21\n",
      "7*4=28\n",
      "7*5=35\n",
      "7*6=42\n",
      "7*7=49\n",
      "7*8=56\n",
      "7*9=63\n",
      "**********\n",
      "8*1=8\n",
      "8*2=16\n",
      "8*3=24\n",
      "8*4=32\n",
      "8*5=40\n",
      "8*6=48\n",
      "8*7=56\n",
      "8*8=64\n",
      "8*9=72\n",
      "**********\n",
      "9*1=9\n",
      "9*2=18\n",
      "9*3=27\n",
      "9*4=36\n",
      "9*5=45\n",
      "9*6=54\n",
      "9*7=63\n",
      "9*8=72\n",
      "9*9=81\n",
      "**********\n"
     ]
    }
   ],
   "source": [
    "for i in range(2,10):\n",
    "    for j in range(1,10):\n",
    "        print(f'{i}*{j}={i*j}')\n",
    "    print('*'*10)"
   ]
  },
  {
   "cell_type": "code",
   "execution_count": 68,
   "id": "64bbec90-49cb-4421-b81f-5789da9f8523",
   "metadata": {},
   "outputs": [
    {
     "name": "stdout",
     "output_type": "stream",
     "text": [
      "2*1=2\n",
      "2*2=4\n",
      "2*3=6\n",
      "2*4=8\n",
      "2*5=10\n",
      "2*6=12\n",
      "2*7=14\n",
      "2*8=16\n",
      "2*9=18\n",
      "**********\n",
      "3*1=3\n",
      "3*2=6\n",
      "3*3=9\n",
      "3*4=12\n",
      "3*5=15\n",
      "3*6=18\n",
      "3*7=21\n",
      "3*8=24\n",
      "3*9=27\n",
      "**********\n",
      "4*1=4\n",
      "4*2=8\n",
      "4*3=12\n",
      "4*4=16\n",
      "4*5=20\n",
      "4*6=24\n",
      "4*7=28\n",
      "4*8=32\n",
      "4*9=36\n",
      "**********\n",
      "5*1=5\n",
      "5*2=10\n",
      "5*3=15\n",
      "5*4=20\n",
      "5*5=25\n",
      "5*6=30\n",
      "5*7=35\n",
      "5*8=40\n",
      "5*9=45\n",
      "**********\n",
      "6*1=6\n",
      "6*2=12\n",
      "6*3=18\n",
      "6*4=24\n",
      "6*5=30\n",
      "6*6=36\n",
      "6*7=42\n",
      "6*8=48\n",
      "6*9=54\n",
      "**********\n",
      "7*1=7\n",
      "7*2=14\n",
      "7*3=21\n",
      "7*4=28\n",
      "7*5=35\n",
      "7*6=42\n",
      "7*7=49\n",
      "7*8=56\n",
      "7*9=63\n",
      "**********\n",
      "8*1=8\n",
      "8*2=16\n",
      "8*3=24\n",
      "8*4=32\n",
      "8*5=40\n",
      "8*6=48\n",
      "8*7=56\n",
      "8*8=64\n",
      "8*9=72\n",
      "**********\n",
      "9*1=9\n",
      "9*2=18\n",
      "9*3=27\n",
      "9*4=36\n",
      "9*5=45\n",
      "9*6=54\n",
      "9*7=63\n",
      "9*8=72\n",
      "9*9=81\n",
      "**********\n"
     ]
    }
   ],
   "source": [
    "for i in range(2,10):\n",
    "    for j in range(1,10):\n",
    "        print(f'{i}*{j}={i*j}')\n",
    "    print('*'*10)"
   ]
  },
  {
   "cell_type": "markdown",
   "id": "2e6586f0-44bf-4df1-8df3-424c860deb62",
   "metadata": {},
   "source": [
    "while 문"
   ]
  },
  {
   "cell_type": "code",
   "execution_count": 69,
   "id": "4ac5d6df-70c6-4389-b953-2320dbf2b717",
   "metadata": {},
   "outputs": [
    {
     "name": "stdout",
     "output_type": "stream",
     "text": [
      "multi campus\n",
      "multi campus\n",
      "multi campus\n",
      "multi campus\n",
      "multi campus\n"
     ]
    }
   ],
   "source": [
    "i=1\n",
    "while (i<=5):\n",
    "    print('multi campus')\n",
    "    i+=1"
   ]
  },
  {
   "cell_type": "code",
   "execution_count": 70,
   "id": "cb186f6b-9931-467b-bcd4-5a015857181c",
   "metadata": {},
   "outputs": [
    {
     "name": "stdout",
     "output_type": "stream",
     "text": [
      "i의 값: 1, 합계:1\n",
      "i의 값: 2, 합계:3\n",
      "i의 값: 3, 합계:6\n",
      "i의 값: 4, 합계:10\n",
      "i의 값: 5, 합계:15\n"
     ]
    }
   ],
   "source": [
    "sum = 0\n",
    "i = 1\n",
    "\n",
    "while (i<=5):\n",
    "    sum=sum+i\n",
    "    print(f'i의 값: {i}, 합계:{sum}')\n",
    "    i=i+1"
   ]
  },
  {
   "cell_type": "code",
   "execution_count": 71,
   "id": "15b13163-d3e8-4121-be87-1e6e4dd6a2a7",
   "metadata": {},
   "outputs": [
    {
     "name": "stdout",
     "output_type": "stream",
     "text": [
      "m u l t i   c a m p u s "
     ]
    }
   ],
   "source": [
    "i=0\n",
    "s='multi campus'\n",
    "\n",
    "while i <= (len(s) -1):\n",
    "    print(s[i], end=' ')\n",
    "    i+=1"
   ]
  },
  {
   "cell_type": "markdown",
   "id": "52c420b7-aa8b-4c6c-8a98-4a5e7486612b",
   "metadata": {},
   "source": [
    "[기출 응용] 평균 점수 계산"
   ]
  },
  {
   "cell_type": "code",
   "execution_count": 74,
   "id": "9d046b7b-46a4-4313-b0fb-dd798bc37ad9",
   "metadata": {},
   "outputs": [
    {
     "name": "stdout",
     "output_type": "stream",
     "text": [
      "723\n",
      "평균은 72.30입니다.\n",
      "72.3\n"
     ]
    }
   ],
   "source": [
    "# for 문 활용\n",
    "\n",
    "a=[70,60,55,95,80,70,85,47,83,78]\n",
    "\n",
    "sum = 0\n",
    "avg = 0\n",
    "\n",
    "for i in a:\n",
    "    sum=sum +i\n",
    "\n",
    "avg=sum / len(a)\n",
    "\n",
    "print(sum)\n",
    "print('평균은 %.2f입니다.'%avg)\n",
    "print(avg)"
   ]
  },
  {
   "cell_type": "code",
   "execution_count": 79,
   "id": "8d29f24b-a6c4-4bd4-ae99-5f2efa08df95",
   "metadata": {},
   "outputs": [
    {
     "name": "stdout",
     "output_type": "stream",
     "text": [
      "723\n",
      "평균은 72.30입니다.\n"
     ]
    }
   ],
   "source": [
    "a=[70,60,55,95,80,70,85,47,83,78]\n",
    "\n",
    "sum = 0\n",
    "avg = 0\n",
    "\n",
    "i=0\n",
    "while (i < len(a)):\n",
    "    sum = sum + a[i]\n",
    "    i+=1\n",
    "   \n",
    "\n",
    "avg = sum / len(a)\n",
    "print(sum)\n",
    "print('평균은 %.2f입니다.'%avg)"
   ]
  },
  {
   "cell_type": "markdown",
   "id": "3c863814-ac2c-41a4-9902-2ad5a79e5630",
   "metadata": {},
   "source": [
    "리스트"
   ]
  },
  {
   "cell_type": "code",
   "execution_count": 1,
   "id": "499475d2-5cdb-4bfb-858c-f6aa3291180e",
   "metadata": {},
   "outputs": [],
   "source": [
    "a=[]\n",
    "b=[1,2,3]\n",
    "c=['사과','오렌지','딸기','포도','바나나']\n",
    "d=[1,2,'python','programming']"
   ]
  },
  {
   "cell_type": "code",
   "execution_count": 2,
   "id": "e334c170-1be0-4af8-b377-03f9591647b9",
   "metadata": {},
   "outputs": [
    {
     "name": "stdout",
     "output_type": "stream",
     "text": [
      "[]\n",
      "바나나\n"
     ]
    }
   ],
   "source": [
    "print(a)\n",
    "print(c[-1])"
   ]
  },
  {
   "cell_type": "code",
   "execution_count": 3,
   "id": "f1138c93-c8c4-41a6-a1ad-2a3d88c6bdb2",
   "metadata": {},
   "outputs": [],
   "source": [
    "%config Completer.use_jedi = False"
   ]
  },
  {
   "cell_type": "code",
   "execution_count": 4,
   "id": "bf82cd5c-50fe-4d78-b3fc-bba8036d106e",
   "metadata": {},
   "outputs": [
    {
     "name": "stdout",
     "output_type": "stream",
     "text": [
      "['오렌지', '딸기', '포도', '바나나']\n"
     ]
    }
   ],
   "source": [
    "del c[0]\n",
    "print(c)"
   ]
  },
  {
   "cell_type": "code",
   "execution_count": 5,
   "id": "dce93d03-ad5d-46f3-96f1-b1d67f2e9396",
   "metadata": {},
   "outputs": [
    {
     "name": "stdout",
     "output_type": "stream",
     "text": [
      "<list_reverseiterator object at 0x0000012FDCF3BD00>\n",
      "['e', 'd', 'c', 'b', 'a']\n"
     ]
    }
   ],
   "source": [
    "a=['a','b','c','d','e']\n",
    "print(reversed(a))\n",
    "b=list(reversed(a))\n",
    "print(b)"
   ]
  },
  {
   "cell_type": "code",
   "execution_count": 6,
   "id": "0aa27d86-e996-403f-83bb-ae12f4064ba8",
   "metadata": {},
   "outputs": [
    {
     "data": {
      "text/plain": [
       "['a', 'b', 'c', 'd', 'e']"
      ]
     },
     "execution_count": 6,
     "metadata": {},
     "output_type": "execute_result"
    }
   ],
   "source": [
    "a"
   ]
  },
  {
   "cell_type": "code",
   "execution_count": 7,
   "id": "761cd72a-0382-4de5-bf41-6fb852910f96",
   "metadata": {},
   "outputs": [],
   "source": [
    "# sort()"
   ]
  },
  {
   "cell_type": "code",
   "execution_count": 8,
   "id": "480a633c-5e53-4706-a327-43a9404b6683",
   "metadata": {},
   "outputs": [
    {
     "data": {
      "text/plain": [
       "['e', 'd', 'c', 'b', 'a']"
      ]
     },
     "execution_count": 8,
     "metadata": {},
     "output_type": "execute_result"
    }
   ],
   "source": [
    "# 슬라이싱 역순 만들어 보\n",
    "a=['a','b','c','d','e']\n",
    "a[::-1]"
   ]
  },
  {
   "cell_type": "code",
   "execution_count": 9,
   "id": "97f67fc8-6236-42ec-a2e9-e80a941e2a63",
   "metadata": {},
   "outputs": [
    {
     "name": "stdout",
     "output_type": "stream",
     "text": [
      "['e', 'd', 'c', 'b', 'a']\n",
      "['a', 'b', 'c', 'd', 'e']\n"
     ]
    }
   ],
   "source": [
    "d= ['e', 'd', 'c', 'b', 'a']\n",
    "e= sorted(d)\n",
    "print(d)\n",
    "print(e)"
   ]
  },
  {
   "cell_type": "code",
   "execution_count": 10,
   "id": "7017583b-6887-47c5-8ebc-645179f1154b",
   "metadata": {},
   "outputs": [],
   "source": [
    "# count(x) : 리스트의 원소 x값 개수를 셈"
   ]
  },
  {
   "cell_type": "code",
   "execution_count": 11,
   "id": "88986b18-5d36-46a4-9bfe-9d66994f6800",
   "metadata": {},
   "outputs": [
    {
     "data": {
      "text/plain": [
       "['a', 'b', 'c', 'd', 'e']"
      ]
     },
     "execution_count": 11,
     "metadata": {},
     "output_type": "execute_result"
    }
   ],
   "source": [
    "# remove(x) : 리스트에서 [첫 번째로 나오는]x값 삭제\n",
    "\n",
    "e"
   ]
  },
  {
   "cell_type": "code",
   "execution_count": 16,
   "id": "179c9efb-90c7-4166-8d66-f6a98cd8b658",
   "metadata": {},
   "outputs": [
    {
     "name": "stdout",
     "output_type": "stream",
     "text": [
      "['b', 'c', 'd']\n"
     ]
    }
   ],
   "source": [
    "e.remove('e')\n",
    "print(e)"
   ]
  },
  {
   "cell_type": "code",
   "execution_count": 17,
   "id": "0ae9f3b6-60a2-451c-819f-5a7d2195e1bd",
   "metadata": {},
   "outputs": [
    {
     "name": "stdout",
     "output_type": "stream",
     "text": [
      "a b c "
     ]
    }
   ],
   "source": [
    "a=['a','b','c']\n",
    "\n",
    "for i in a:\n",
    "    print(i,end=' ')"
   ]
  },
  {
   "cell_type": "markdown",
   "id": "1d6e0647-1cc9-4bd8-8f7b-5ba9d46dcc5c",
   "metadata": {},
   "source": [
    "2차원 리스트"
   ]
  },
  {
   "cell_type": "code",
   "execution_count": 18,
   "id": "37095db3-a585-4b17-8cff-8eb17b56bb3b",
   "metadata": {},
   "outputs": [],
   "source": [
    "scores = [[70,75],[80,80],[70,80],[95,85],[100,80]]"
   ]
  },
  {
   "cell_type": "code",
   "execution_count": 20,
   "id": "4ad91f66-7450-463e-8d38-9f51041cfa84",
   "metadata": {},
   "outputs": [
    {
     "data": {
      "text/plain": [
       "70"
      ]
     },
     "execution_count": 20,
     "metadata": {},
     "output_type": "execute_result"
    }
   ],
   "source": [
    "# 3번째 학생의 중간고사 성적\n",
    "scores[2][0]"
   ]
  },
  {
   "cell_type": "markdown",
   "id": "6b21d36a-acd1-487f-8952-0b8b4ffa9b38",
   "metadata": {},
   "source": [
    "튜플과 딕셔너리"
   ]
  },
  {
   "cell_type": "code",
   "execution_count": 24,
   "id": "568bf419-5aad-48d2-9490-7649560c2e4f",
   "metadata": {},
   "outputs": [
    {
     "name": "stdout",
     "output_type": "stream",
     "text": [
      "a\n",
      "('a', 'b', 'c', 'd')\n",
      "('a', 'b', 'c', 'd', 'e', 'a', 'b', 'c', 'd', 'e')\n"
     ]
    }
   ],
   "source": [
    "# tuple\n",
    "\n",
    "t = ('a','b','c','d','e')\n",
    "\n",
    "print(t[0])\n",
    "print(t[:-1])\n",
    "print(t*2)"
   ]
  },
  {
   "cell_type": "code",
   "execution_count": 25,
   "id": "51f20d6f-b1de-4b45-8cb1-568fd73aa1a0",
   "metadata": {},
   "outputs": [
    {
     "name": "stdout",
     "output_type": "stream",
     "text": [
      "a\n"
     ]
    }
   ],
   "source": [
    "# 딕셔너리\n",
    "\n",
    "dict1={1:'a',2:'b',3:'c'}\n",
    "dict2={'name':'python','age':30, 'job':'dessa'}\n",
    "print(dict1[1])"
   ]
  },
  {
   "cell_type": "code",
   "execution_count": 26,
   "id": "df97631f-975e-4b9e-89f7-cbf53aba5f9e",
   "metadata": {},
   "outputs": [],
   "source": [
    "dict2['hobby']='piano'"
   ]
  },
  {
   "cell_type": "code",
   "execution_count": 27,
   "id": "678690f0-627f-4b96-af0e-33f8628b51ab",
   "metadata": {},
   "outputs": [
    {
     "name": "stdout",
     "output_type": "stream",
     "text": [
      "{'name': 'python', 'age': 30, 'job': 'dessa', 'hobby': 'piano'}\n"
     ]
    }
   ],
   "source": [
    "print(dict2)"
   ]
  },
  {
   "cell_type": "markdown",
   "id": "e6150954-da3c-44bc-b171-eeab0fec66b8",
   "metadata": {},
   "source": [
    "- 3명의 회원 정보(id, password) :  dictonary 정의할 것\n",
    "- 사용자로 부터 id, password 입력받아서 일치 여부 판단 프로그램\n",
    "    - 회원1 id: multi pw:1234\n",
    "    - 회원2 id: drwill pw:7777\n",
    "    - 회원3 id: dessa pw:8888"
   ]
  },
  {
   "cell_type": "code",
   "execution_count": 33,
   "id": "7a5ec18b-16b0-4ae1-91fe-5a0b7664f9ce",
   "metadata": {},
   "outputs": [
    {
     "name": "stdin",
     "output_type": "stream",
     "text": [
      "아이디를 입력하세요:  dessa\n",
      "비밀번호를 입력하세요:  8888\n"
     ]
    },
    {
     "name": "stdout",
     "output_type": "stream",
     "text": [
      "로그인 성공!\n"
     ]
    }
   ],
   "source": [
    "id_pw = {'multi': '1234', 'drwill': '7777', 'dessa': '8888'}\n",
    "\n",
    "input_id = input(\"아이디를 입력하세요: \")\n",
    "input_pw = input(\"비밀번호를 입력하세요: \")\n",
    "\n",
    "if input_id in id_pw and id_pw[input_id] == input_pw:\n",
    "    print(\"로그인 성공!\")\n",
    "else:\n",
    "    print(\"아이디 또는 비밀번호가 잘못되었습니다.\")"
   ]
  },
  {
   "cell_type": "markdown",
   "id": "3eb96319-c214-4fa2-b500-96927be60e6a",
   "metadata": {},
   "source": [
    "함수와 라이브러리"
   ]
  },
  {
   "cell_type": "code",
   "execution_count": 35,
   "id": "0f14bfa1-e544-4478-a09c-e8bdb8ea9f6f",
   "metadata": {},
   "outputs": [],
   "source": [
    "def sum(x,y):\n",
    "    return x+y"
   ]
  },
  {
   "cell_type": "code",
   "execution_count": 36,
   "id": "00774d0c-07ee-403f-bd44-e39a5b904c4c",
   "metadata": {},
   "outputs": [],
   "source": [
    "def 홀짝(x):\n",
    "    if x %2==0:\n",
    "        return('짝수')\n",
    "    else:\n",
    "        return('홀수')"
   ]
  },
  {
   "cell_type": "code",
   "execution_count": 37,
   "id": "d5416df4-9c99-40e6-a895-1b35794eec2e",
   "metadata": {},
   "outputs": [
    {
     "data": {
      "text/plain": [
       "'홀수'"
      ]
     },
     "execution_count": 37,
     "metadata": {},
     "output_type": "execute_result"
    }
   ],
   "source": [
    "홀짝(41)"
   ]
  },
  {
   "cell_type": "code",
   "execution_count": 39,
   "id": "b96b4f5a-9201-47a9-b372-de30d5e692ec",
   "metadata": {},
   "outputs": [
    {
     "name": "stdin",
     "output_type": "stream",
     "text": [
      "숫자를 입력해 주세요(단, 정수로 입력해주세요):  22\n"
     ]
    },
    {
     "name": "stdout",
     "output_type": "stream",
     "text": [
      "22는 짝수입니다.\n"
     ]
    }
   ],
   "source": [
    "x=int(input('숫자를 입력해 주세요(단, 정수로 입력해주세요): '))\n",
    "print(f'{x}는 {홀짝(x)}입니다.')"
   ]
  },
  {
   "cell_type": "code",
   "execution_count": 40,
   "id": "45191379-7670-4e32-a96f-59d2e8a7d784",
   "metadata": {},
   "outputs": [
    {
     "name": "stdin",
     "output_type": "stream",
     "text": [
      "첫번째 숫자를 입력하세요(반드시 숫자입력~) 2\n",
      "두번째 숫자를 입력하세요(반드시 숫자입력~) 5\n"
     ]
    },
    {
     "name": "stdout",
     "output_type": "stream",
     "text": [
      "두 수의 곱은 10\n"
     ]
    }
   ],
   "source": [
    "def multi(x,y):\n",
    "    mul = x*y\n",
    "    return mul\n",
    "\n",
    "x=int(input('첫번째 숫자를 입력하세요(반드시 숫자입력~)'))\n",
    "y=int(input('두번째 숫자를 입력하세요(반드시 숫자입력~)'))\n",
    "\n",
    "print(f'두 수의 곱은 {multi(x,y)}')"
   ]
  },
  {
   "cell_type": "code",
   "execution_count": null,
   "id": "0273a1a4-aa3b-4e8b-97e6-90c0f2d09bcd",
   "metadata": {},
   "outputs": [],
   "source": []
  }
 ],
 "metadata": {
  "kernelspec": {
   "display_name": "Python 3 (ipykernel)",
   "language": "python",
   "name": "python3"
  },
  "language_info": {
   "codemirror_mode": {
    "name": "ipython",
    "version": 3
   },
   "file_extension": ".py",
   "mimetype": "text/x-python",
   "name": "python",
   "nbconvert_exporter": "python",
   "pygments_lexer": "ipython3",
   "version": "3.11.7"
  }
 },
 "nbformat": 4,
 "nbformat_minor": 5
}
