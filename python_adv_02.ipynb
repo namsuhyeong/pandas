{
 "cells": [
  {
   "cell_type": "code",
   "execution_count": 1,
   "id": "7224f731-ee80-40f4-b868-e0bb4a84d136",
   "metadata": {},
   "outputs": [],
   "source": [
    "# 데이터 전처리 시, 임시변수(temp) 적극 활용 권고"
   ]
  },
  {
   "cell_type": "markdown",
   "id": "47361a09-47e9-4bb6-b483-2a1798d1af0b",
   "metadata": {},
   "source": [
    "리스트 자료형"
   ]
  },
  {
   "cell_type": "code",
   "execution_count": 2,
   "id": "93f0131a-d812-43db-b477-a7b991e78d05",
   "metadata": {},
   "outputs": [
    {
     "data": {
      "text/plain": [
       "[1, 10, 2, 4]"
      ]
     },
     "execution_count": 2,
     "metadata": {},
     "output_type": "execute_result"
    }
   ],
   "source": [
    "a=[1,10,2,4]\n",
    "a"
   ]
  },
  {
   "cell_type": "code",
   "execution_count": 5,
   "id": "1247a83f-5b38-4bc7-a01e-dd01f1d05d61",
   "metadata": {},
   "outputs": [
    {
     "name": "stdout",
     "output_type": "stream",
     "text": [
      "1\n",
      "0\n"
     ]
    }
   ],
   "source": [
    "b= a.index(10)\n",
    "c=a.index(1)\n",
    "print(b)\n",
    "print(c)"
   ]
  },
  {
   "cell_type": "markdown",
   "id": "3f0a33fc-3f53-455f-83a7-b6c79cdac839",
   "metadata": {},
   "source": [
    "튜플"
   ]
  },
  {
   "cell_type": "code",
   "execution_count": 6,
   "id": "09b3f231-a75b-4659-b09a-3f51ad412d1c",
   "metadata": {},
   "outputs": [],
   "source": [
    "a=(1,2,3,4,5)\n",
    "b=('a','b','c')\n",
    "\n",
    "c=a*2+b\n",
    "d=len(c)"
   ]
  },
  {
   "cell_type": "code",
   "execution_count": 8,
   "id": "cc3b0e21-5f73-4b46-b7f6-6c2580e70219",
   "metadata": {},
   "outputs": [
    {
     "name": "stdout",
     "output_type": "stream",
     "text": [
      "(1, 2, 3, 4, 5, 1, 2, 3, 4, 5, 'a', 'b', 'c')\n",
      "13\n"
     ]
    }
   ],
   "source": [
    "print(c)\n",
    "print(d)"
   ]
  },
  {
   "cell_type": "code",
   "execution_count": 9,
   "id": "d769b650-dba7-439c-965c-7108f5de811c",
   "metadata": {},
   "outputs": [
    {
     "name": "stdout",
     "output_type": "stream",
     "text": [
      "1\n",
      "('a', 'b', 'c')\n"
     ]
    }
   ],
   "source": [
    "print(c[0])\n",
    "print(c[-3:])"
   ]
  },
  {
   "cell_type": "markdown",
   "id": "93903049-4927-4197-bd73-c4e9edab8f0e",
   "metadata": {},
   "source": [
    "딕셔너리"
   ]
  },
  {
   "cell_type": "code",
   "execution_count": null,
   "id": "f805dc58-2537-4f79-9be2-f7cff2f66f2a",
   "metadata": {},
   "outputs": [],
   "source": []
  }
 ],
 "metadata": {
  "kernelspec": {
   "display_name": "Python 3 (ipykernel)",
   "language": "python",
   "name": "python3"
  },
  "language_info": {
   "codemirror_mode": {
    "name": "ipython",
    "version": 3
   },
   "file_extension": ".py",
   "mimetype": "text/x-python",
   "name": "python",
   "nbconvert_exporter": "python",
   "pygments_lexer": "ipython3",
   "version": "3.11.7"
  }
 },
 "nbformat": 4,
 "nbformat_minor": 5
}
