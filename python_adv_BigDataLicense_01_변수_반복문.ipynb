{
 "cells": [
  {
   "cell_type": "markdown",
   "id": "79101276-6702-4bae-a9cf-44b028234548",
   "metadata": {},
   "source": [
    "변수"
   ]
  },
  {
   "cell_type": "code",
   "execution_count": 56,
   "id": "14e75551-9fc2-458f-bee5-5e291ecf69b7",
   "metadata": {},
   "outputs": [
    {
     "name": "stdout",
     "output_type": "stream",
     "text": [
      "1\n"
     ]
    }
   ],
   "source": [
    "a = 1\n",
    "\n",
    "print(a)"
   ]
  },
  {
   "cell_type": "code",
   "execution_count": 57,
   "id": "10d67f24-54e4-4478-b2c4-335040b68ba7",
   "metadata": {},
   "outputs": [
    {
     "name": "stdout",
     "output_type": "stream",
     "text": [
      "6\n"
     ]
    }
   ],
   "source": [
    "b = 6 \n",
    "a = b \n",
    "# 얕은 복사(shallow copy)\n",
    "\n",
    "print(a)"
   ]
  },
  {
   "cell_type": "markdown",
   "id": "e4ccfad8-a672-4644-b0a1-0e7606cd5908",
   "metadata": {},
   "source": [
    "데이터 타입(dtype)"
   ]
  },
  {
   "cell_type": "code",
   "execution_count": 58,
   "id": "b73a7b87-4b96-4de8-b42f-1065dccacde1",
   "metadata": {},
   "outputs": [
    {
     "name": "stdout",
     "output_type": "stream",
     "text": [
      "1 5 3.3 0.5\n",
      "<class 'int'> <class 'int'> <class 'float'> <class 'float'>\n"
     ]
    }
   ],
   "source": [
    "# 숫자형 \n",
    "\n",
    "a = 1 ; b = 5 ; c = 3.3 ; d = 0.5\n",
    "\n",
    "print(a,b,c,d)\n",
    "print(type(a), type(b), type(c), type(d))"
   ]
  },
  {
   "cell_type": "code",
   "execution_count": 59,
   "id": "7ec2c6f6-7fd2-4616-90e5-2087d0f2b9a6",
   "metadata": {},
   "outputs": [
    {
     "name": "stdout",
     "output_type": "stream",
     "text": [
      "6 -4 5 0.2\n",
      "1.0\n",
      "0.0\n",
      "1.0\n"
     ]
    }
   ],
   "source": [
    "# 파이선 연산\n",
    "print(a+b, a-b, a*b, a/b) # 사칙연산(+,-,*,/)\n",
    "print(a ** c) # 제곱 \n",
    "print(a //c)  # 몫\n",
    "print(a % c)  # 나머지 "
   ]
  },
  {
   "cell_type": "code",
   "execution_count": 60,
   "id": "3c40d777-3a9b-439f-a068-b8ff1ec5931a",
   "metadata": {},
   "outputs": [
    {
     "name": "stdout",
     "output_type": "stream",
     "text": [
      "pythonprogramming\n",
      "pythonpython\n"
     ]
    }
   ],
   "source": [
    "# 문자열 형 \n",
    "\n",
    "str1 = \"python\"\n",
    "str2 = \"programming\" \n",
    "print(str1 + str2)  # 문자열 더하기 >> 문자끼리 연결 \n",
    "print(str1 * 2)  # 문자열 곱하기 >> 문자열 반복 "
   ]
  },
  {
   "cell_type": "code",
   "execution_count": 61,
   "id": "7135b623-f5b6-42b7-8dc9-6346463fc474",
   "metadata": {},
   "outputs": [
    {
     "name": "stdout",
     "output_type": "stream",
     "text": [
      "p\n",
      "n\n",
      "18\n",
      "p\n",
      "********************\n",
      "yth\n",
      "python\n",
      "ing\n"
     ]
    }
   ],
   "source": [
    "# 문자열 인덱싱 & 슬라이싱 \n",
    "\n",
    "str = \"python programming\"\n",
    "print(str[0]) # 인덱싱 (특정 위치 값 추출)\n",
    "print(str[-2])\n",
    "print(len(str)) # 데이터 크기(길이) \n",
    "print(str[-18]) \n",
    "print(\"*\" * 20)\n",
    "\n",
    "print(str[1:4]) \n",
    "print(str[:6])\n",
    "print(str[-3:])"
   ]
  },
  {
   "cell_type": "code",
   "execution_count": 62,
   "id": "fc3f7f07-5918-4980-b82a-6d3d0ebb18b3",
   "metadata": {},
   "outputs": [
    {
     "name": "stdout",
     "output_type": "stream",
     "text": [
      "오늘은 28 일 입니다.\n",
      "오늘은 목요일 입니다.\n",
      "지금 온도는 36.500000도 입니다\n",
      "지금 온도는 36.50도 입니다\n"
     ]
    }
   ],
   "source": [
    "# 문자열 포맷팅 \n",
    "# f'{}' : f-string (강추)\n",
    "\n",
    "print(\"오늘은 %d 일 입니다.\" %28)\n",
    "print(\"오늘은 %s요일 입니다.\"%\"목\") \n",
    "print(\"지금 온도는 %f도 입니다\"%36.5)\n",
    "print(\"지금 온도는 %0.2f도 입니다\"%36.5) # 소수점 2째자리까지만 출력 "
   ]
  },
  {
   "cell_type": "markdown",
   "id": "801e43e9-e05e-4f49-b774-4ac77d9390e7",
   "metadata": {},
   "source": [
    "- %s : string 문자열 \n",
    "- %c : 단일문자(character : char)\n",
    "- %d : 정수(int)\n",
    "- %x : 16진수 "
   ]
  },
  {
   "cell_type": "code",
   "execution_count": 63,
   "id": "ee316583-0a4a-4417-958c-e9ca00f7ed35",
   "metadata": {},
   "outputs": [
    {
     "name": "stdout",
     "output_type": "stream",
     "text": [
      "2\n"
     ]
    }
   ],
   "source": [
    "# 문자열 내장 함수 \n",
    "\n",
    "# count() : 문자열 내 특정 문자 개수 세기 \n",
    "str = \"python programming\"\n",
    "print(str.count('p')) "
   ]
  },
  {
   "cell_type": "code",
   "execution_count": 64,
   "id": "bb24286d-e09c-49eb-9d6f-60b833fa2367",
   "metadata": {},
   "outputs": [
    {
     "data": {
      "text/plain": [
       "'p-y-t-h-o-n- -p-r-o-g-r-a-m-m-i-n-g'"
      ]
     },
     "execution_count": 64,
     "metadata": {},
     "output_type": "execute_result"
    }
   ],
   "source": [
    "# join() : 문자열 삽입 \n",
    "\n",
    "\"-\".join(str)"
   ]
  },
  {
   "cell_type": "code",
   "execution_count": 65,
   "id": "02e6f7f8-fd89-4b07-a933-51a0d5f727ae",
   "metadata": {},
   "outputs": [
    {
     "data": {
      "text/plain": [
       "5"
      ]
     },
     "execution_count": 65,
     "metadata": {},
     "output_type": "execute_result"
    }
   ],
   "source": [
    "# find() : 찾는 문자열 (처음 나온) 위치 반환\n",
    "\n",
    "str.find('n')"
   ]
  },
  {
   "cell_type": "code",
   "execution_count": 66,
   "id": "1a07c34a-93d7-4013-a1ac-d890ae7d9081",
   "metadata": {},
   "outputs": [
    {
     "name": "stdout",
     "output_type": "stream",
     "text": [
      "PYTHON PROGRAMMING\n"
     ]
    },
    {
     "data": {
      "text/plain": [
       "'python programming'"
      ]
     },
     "execution_count": 66,
     "metadata": {},
     "output_type": "execute_result"
    }
   ],
   "source": [
    "# upper(), lower()  대문자로 / 소문자로 변환\n",
    "\n",
    "print(str.upper())\n",
    "str2 = 'PYTHON PROGRAMMING'\n",
    "str2.lower()"
   ]
  },
  {
   "cell_type": "code",
   "execution_count": 67,
   "id": "08f723f0-2035-4202-907b-31c25b4ef49d",
   "metadata": {},
   "outputs": [
    {
     "data": {
      "text/plain": [
       "'java programming'"
      ]
     },
     "execution_count": 67,
     "metadata": {},
     "output_type": "execute_result"
    }
   ],
   "source": [
    "# replace(***) : 문자열 내 특정 값을 다른 값으로 변환 \n",
    "str.replace(\"python\", \"java\")"
   ]
  },
  {
   "cell_type": "code",
   "execution_count": 68,
   "id": "73a0db08-e16b-4b71-a025-43e7dc468d65",
   "metadata": {},
   "outputs": [
    {
     "data": {
      "text/plain": [
       "['python', 'programming']"
      ]
     },
     "execution_count": 68,
     "metadata": {},
     "output_type": "execute_result"
    }
   ],
   "source": [
    "# split(***) : 공백 또는 특정 문자를 [구분자]로 문자열 분리 \n",
    "\n",
    "str.split(\" \") # 공백 기준 분리"
   ]
  },
  {
   "cell_type": "markdown",
   "id": "2e1f7b89-888d-45a7-b5bc-e95d233203b5",
   "metadata": {},
   "source": [
    "연산자"
   ]
  },
  {
   "cell_type": "code",
   "execution_count": 69,
   "id": "3249f84e-7cd0-472f-85c9-2b4f2f1582b6",
   "metadata": {},
   "outputs": [
    {
     "name": "stdout",
     "output_type": "stream",
     "text": [
      "30\n",
      "10\n",
      "200\n",
      "2.0\n",
      "2\n",
      "0\n",
      "10240000000000\n"
     ]
    }
   ],
   "source": [
    "# 산술 연산자 \n",
    "\n",
    "a = 20 ; b = 10 \n",
    "print(a+b) # 더하기\n",
    "print(a-b) # 빼기\n",
    "print(a*b) # 곱하기\n",
    "print(a/b) # 나누기 \n",
    "print(a//b) # 몫\n",
    "print(a%b)  # 나머지 \n",
    "print(a**b) # 거듭제곱 "
   ]
  },
  {
   "cell_type": "code",
   "execution_count": 70,
   "id": "f23dc8b8-3512-4a67-af18-9d8e9393c84f",
   "metadata": {},
   "outputs": [
    {
     "name": "stdout",
     "output_type": "stream",
     "text": [
      "False\n",
      "True\n",
      "False\n",
      "False\n",
      "True\n"
     ]
    }
   ],
   "source": [
    "# 비교(관계) 연산자 \n",
    "\n",
    "print(a < b) \n",
    "# boolean(True/False)으로 출력\n",
    "print(a >= b) \n",
    "print(a <= b) \n",
    "print(a == b) # 값이 동일 \n",
    "print(a != b) # 값이 다르다"
   ]
  },
  {
   "cell_type": "code",
   "execution_count": 73,
   "id": "b30165d1-8d46-4f3b-afd9-53992168705b",
   "metadata": {},
   "outputs": [
    {
     "data": {
      "text/plain": [
       "False"
      ]
     },
     "execution_count": 73,
     "metadata": {},
     "output_type": "execute_result"
    }
   ],
   "source": [
    "# 논리 연산자 \n",
    "\n",
    "a = True \n",
    "b = False \n",
    "\n",
    "(a and b) "
   ]
  },
  {
   "cell_type": "code",
   "execution_count": 74,
   "id": "fd7dbe58-d526-4d28-950c-51c8754a9208",
   "metadata": {},
   "outputs": [
    {
     "data": {
      "text/plain": [
       "True"
      ]
     },
     "execution_count": 74,
     "metadata": {},
     "output_type": "execute_result"
    }
   ],
   "source": [
    "(a or b)  "
   ]
  },
  {
   "cell_type": "code",
   "execution_count": 75,
   "id": "86222202-0640-4578-9538-fd27e6b054c0",
   "metadata": {},
   "outputs": [
    {
     "data": {
      "text/plain": [
       "True"
      ]
     },
     "execution_count": 75,
     "metadata": {},
     "output_type": "execute_result"
    }
   ],
   "source": [
    "not b "
   ]
  },
  {
   "cell_type": "code",
   "execution_count": 80,
   "id": "17a54303-5318-44dc-abf1-eccf4b13e95a",
   "metadata": {},
   "outputs": [
    {
     "name": "stdout",
     "output_type": "stream",
     "text": [
      "20\n"
     ]
    }
   ],
   "source": [
    "# 복합 대입 연산자 \n",
    "\n",
    "a = 10 \n",
    "a = a + 10\n",
    "print(a)"
   ]
  },
  {
   "cell_type": "code",
   "execution_count": 81,
   "id": "2f187329-af0d-4310-84d9-c0225f24297f",
   "metadata": {},
   "outputs": [
    {
     "name": "stdout",
     "output_type": "stream",
     "text": [
      "30\n"
     ]
    }
   ],
   "source": [
    "a += 10  # a = a + 10\n",
    "print(a)"
   ]
  },
  {
   "cell_type": "code",
   "execution_count": 82,
   "id": "dc913bf0-9778-4120-b471-5d0011af9b5b",
   "metadata": {},
   "outputs": [
    {
     "name": "stdout",
     "output_type": "stream",
     "text": [
      "20\n"
     ]
    }
   ],
   "source": [
    "a -= 10  # a = a - 10\n",
    "print(a)"
   ]
  },
  {
   "cell_type": "code",
   "execution_count": 83,
   "id": "479c10e1-fd80-4220-b9b1-6e7d36a4973a",
   "metadata": {},
   "outputs": [
    {
     "name": "stdout",
     "output_type": "stream",
     "text": [
      "200\n"
     ]
    }
   ],
   "source": [
    "a *= 10  # a = a*10\n",
    "print(a)"
   ]
  },
  {
   "cell_type": "code",
   "execution_count": 84,
   "id": "0d5be89a-fa64-4963-89fc-480687eace23",
   "metadata": {},
   "outputs": [
    {
     "name": "stdout",
     "output_type": "stream",
     "text": [
      "20.0\n"
     ]
    }
   ],
   "source": [
    "a /= 10  # a = a/10\n",
    "print(a)"
   ]
  },
  {
   "cell_type": "markdown",
   "id": "a55e5824-a4b4-4ccc-a36c-3bd1a96bd19e",
   "metadata": {},
   "source": [
    "조건문과 반복문"
   ]
  },
  {
   "cell_type": "code",
   "execution_count": 86,
   "id": "91fc89f2-7d31-4ad7-b1b7-e6fd140b855b",
   "metadata": {},
   "outputs": [
    {
     "name": "stdout",
     "output_type": "stream",
     "text": [
      "a는 양의 정수입니다.\n"
     ]
    }
   ],
   "source": [
    "# 조건문 \n",
    "\n",
    "# if 조건문 \n",
    "a = 10 \n",
    "if (a > 0): \n",
    "    print(\"a는 양의 정수입니다.\") "
   ]
  },
  {
   "cell_type": "code",
   "execution_count": 90,
   "id": "1f8d2ab9-8267-4cce-8efe-66e9ebb45291",
   "metadata": {},
   "outputs": [],
   "source": [
    "a = 10 \n",
    "if (a < 0): \n",
    "    print(\"a는 양의 정수입니다.\") \n",
    "\n",
    "# 아무 것도 안 나옴(왜 if 절 조건이 True 가 아니기 때문)"
   ]
  },
  {
   "cell_type": "code",
   "execution_count": 88,
   "id": "ad018c5f-9fa9-4ed8-b457-0483b963d6ff",
   "metadata": {},
   "outputs": [
    {
     "name": "stdout",
     "output_type": "stream",
     "text": [
      "10\n"
     ]
    }
   ],
   "source": [
    "a = 10 \n",
    "if (a < 0): \n",
    "    print(\"a는 양의 정수입니다.\") \n",
    "\n",
    "print(a)"
   ]
  },
  {
   "cell_type": "code",
   "execution_count": 91,
   "id": "49928eb2-f43d-44c9-993e-eb371e136e25",
   "metadata": {},
   "outputs": [
    {
     "name": "stdout",
     "output_type": "stream",
     "text": [
      "b는 -10입니다.\n",
      "b는 음의 정수입니다.\n"
     ]
    }
   ],
   "source": [
    "# if ~ else \n",
    "\n",
    "b = -10\n",
    "\n",
    "if (b > 0): \n",
    "    print(\"b는 %d입니다.\"%b) \n",
    "    print(\"b는 양의 정수입니다.\")\n",
    "\n",
    "else: \n",
    "    print(\"b는 %d입니다.\"%b) \n",
    "    print(\"b는 음의 정수입니다.\")"
   ]
  },
  {
   "cell_type": "code",
   "execution_count": 92,
   "id": "30f2cf50-2c11-46ee-8f34-74ab88ec9b72",
   "metadata": {},
   "outputs": [
    {
     "name": "stdout",
     "output_type": "stream",
     "text": [
      "a는 음의 정수입니다.\n"
     ]
    }
   ],
   "source": [
    "# if ~ elif ~ else\n",
    "\n",
    "a = -10 \n",
    "\n",
    "if (a > 0):\n",
    "    print(\"a는 양의 정수입니다.\") \n",
    "elif (a == 0): \n",
    "    print(\"a는 0 입니다.\") \n",
    "else: \n",
    "    print(\"a는 음의 정수입니다.\") "
   ]
  },
  {
   "cell_type": "code",
   "execution_count": 93,
   "id": "0942109d-5dc2-46b7-a78d-59bdaa758f29",
   "metadata": {},
   "outputs": [
    {
     "name": "stdin",
     "output_type": "stream",
     "text": [
      "첫번째 수를 입력하세요:  20\n",
      "두번째 수를 입력하세요:  50\n",
      "세번째 수를 입력하세요:  30\n"
     ]
    },
    {
     "name": "stdout",
     "output_type": "stream",
     "text": [
      "가장 큰 수는 50입니다\n"
     ]
    }
   ],
   "source": [
    "### 실제 코딩 테스트에 나온 문제 풀어보는 즐거운 코딩 시간 \n",
    "\n",
    "# a,b,c 세 정수형 변수\n",
    "# 이 중에서 가장 큰 수(big) 찾아서 출력하기 \n",
    "# 사용자 입력을 받으세요 >> input()\n",
    "\n",
    "a = int(input(\"첫번째 수를 입력하세요: \"))\n",
    "b = int(input(\"두번째 수를 입력하세요: \"))\n",
    "c = int(input(\"세번째 수를 입력하세요: \"))\n",
    "\n",
    "# a와 b를 비교 >> big \n",
    "if (a >= b): \n",
    "    big = a\n",
    "else:\n",
    "    big = b\n",
    "\n",
    "# c와 big 을 비교 >> 더 큰 값 출력 \n",
    "if (c >= big):\n",
    "    print(\"가장 큰 수는 %d입니다\"%c)\n",
    "else: \n",
    "    print(\"가장 큰 수는 %d입니다\"%big)\n",
    "\n",
    "# 출력결과 \n",
    "# 첫번째 수를 입력하세요:\n",
    "# 두번째 수를 입력하세요:\n",
    "# 세번째 수를 입력하세요:\n",
    "# 가장 큰 수는 (숫자) 입니다. "
   ]
  },
  {
   "cell_type": "code",
   "execution_count": 98,
   "id": "52066c70-d9f6-4fa0-b85d-2511f470d97a",
   "metadata": {},
   "outputs": [
    {
     "name": "stdin",
     "output_type": "stream",
     "text": [
      "첫번째 수를 입력하세요:  20\n",
      "두번째 수를 입력하세요:  30\n",
      "세번째 수를 입력하세요:  50\n"
     ]
    },
    {
     "name": "stdout",
     "output_type": "stream",
     "text": [
      "가장 큰 수는 50\n"
     ]
    }
   ],
   "source": [
    "# 교육생 작품\n",
    "a = int(input(\"첫번째 수를 입력하세요: \"))\n",
    "b = int(input(\"두번째 수를 입력하세요: \"))\n",
    "c = int(input(\"세번째 수를 입력하세요: \"))\n",
    "\n",
    "if (a >= b):\n",
    "    big = a\n",
    "else:\n",
    "    big = b\n",
    "    \n",
    "if ( c >= big):\n",
    "    big = c\n",
    "else:\n",
    "    big\n",
    "    \n",
    "print(\"가장 큰 수는\",big)"
   ]
  },
  {
   "cell_type": "code",
   "execution_count": 99,
   "id": "07fcdb51-6f2b-4d16-9eaf-ffada53620e0",
   "metadata": {},
   "outputs": [
    {
     "name": "stdin",
     "output_type": "stream",
     "text": [
      "첫번째 수를 입력하세요:  50\n",
      "두번째 수를 입력하세요:  30\n",
      "세번째 수를 입력하세요:  20\n"
     ]
    },
    {
     "name": "stdout",
     "output_type": "stream",
     "text": [
      "가장 큰 수는 50입니다.\n"
     ]
    }
   ],
   "source": [
    "a = int(input(\"첫번째 수를 입력하세요: \"))\n",
    "b = int(input(\"두번째 수를 입력하세요: \"))\n",
    "c = int(input(\"세번째 수를 입력하세요: \"))\n",
    "\n",
    "if(a >= b):\n",
    "    big = a\n",
    "else:\n",
    "    big = b\n",
    "    \n",
    "if(c >= big):\n",
    "    big = c\n",
    "    print(\"가장 큰 수는 %d입니다.\"%big)\n",
    "else:\n",
    "    big = big\n",
    "    print(\"가장 큰 수는 %d입니다.\"%big)"
   ]
  },
  {
   "cell_type": "code",
   "execution_count": 100,
   "id": "90b13f7a-dbcd-40f8-b510-11ac31aa0cfa",
   "metadata": {},
   "outputs": [
    {
     "name": "stdin",
     "output_type": "stream",
     "text": [
      "첫번째 수를 입력하세요:  30\n",
      "두번째 수를 입력하세요:  20\n",
      "세번째 수를 입력하세요:  50\n"
     ]
    },
    {
     "name": "stdout",
     "output_type": "stream",
     "text": [
      "가장 큰 수: 50\n"
     ]
    }
   ],
   "source": [
    "a = int(input(\"첫번째 수를 입력하세요: \"))\n",
    "b = int(input(\"두번째 수를 입력하세요: \"))\n",
    "c = int(input(\"세번째 수를 입력하세요: \"))\n",
    "\n",
    "big = a\n",
    "\n",
    "if (a < b):\n",
    "    big = b\n",
    "if (c > big):\n",
    "    big = c\n",
    "print(\"가장 큰 수:\", big) "
   ]
  },
  {
   "cell_type": "code",
   "execution_count": 102,
   "id": "3ee2edaf-21ae-4240-97e4-4660f5dff541",
   "metadata": {},
   "outputs": [
    {
     "name": "stdout",
     "output_type": "stream",
     "text": [
      "가장 큰 수를 찾는 프로그램\n",
      "첫번째 수를 입력하시오\n"
     ]
    },
    {
     "name": "stdin",
     "output_type": "stream",
     "text": [
      " -30\n"
     ]
    },
    {
     "name": "stdout",
     "output_type": "stream",
     "text": [
      "두번째 수를 입력하시오\n"
     ]
    },
    {
     "name": "stdin",
     "output_type": "stream",
     "text": [
      " -20\n"
     ]
    },
    {
     "name": "stdout",
     "output_type": "stream",
     "text": [
      "세번째 수를 입력하시오\n"
     ]
    },
    {
     "name": "stdin",
     "output_type": "stream",
     "text": [
      " -50\n"
     ]
    },
    {
     "name": "stdout",
     "output_type": "stream",
     "text": [
      "가장 큰 수는 -20입니다.\n"
     ]
    }
   ],
   "source": [
    "def find_largest_number(a, b, c):\n",
    "    big = 0\n",
    "    \n",
    "    if a > b:\n",
    "        big = a\n",
    "    elif a == b:\n",
    "        big = a\n",
    "    else:\n",
    "        big = b\n",
    "        \n",
    "    if c >= big:\n",
    "        big = c\n",
    "    return big\n",
    "    \n",
    "print(\"가장 큰 수를 찾는 프로그램\")\n",
    "print(\"첫번째 수를 입력하시오\")\n",
    "a = int(input())\n",
    "print(\"두번째 수를 입력하시오\")\n",
    "b = int(input())\n",
    "print(\"세번째 수를 입력하시오\")\n",
    "c = int(input())\n",
    "largest_number = find_largest_number(a, b, c)\n",
    "print(f\"가장 큰 수는 {largest_number}입니다.\")"
   ]
  },
  {
   "cell_type": "markdown",
   "id": "160c55b3-e24d-4770-97ad-cded68de4ee3",
   "metadata": {},
   "source": [
    "반복문"
   ]
  },
  {
   "cell_type": "code",
   "execution_count": 103,
   "id": "a8163105-327e-4892-b576-3ea4148ae2ce",
   "metadata": {},
   "outputs": [
    {
     "name": "stdout",
     "output_type": "stream",
     "text": [
      "python programming\n",
      "python programming\n",
      "python programming\n",
      "python programming\n",
      "python programming\n"
     ]
    }
   ],
   "source": [
    "# for 문 \n",
    "\n",
    "for i in range(5): \n",
    "    print(\"python programming\") "
   ]
  },
  {
   "cell_type": "code",
   "execution_count": 104,
   "id": "e696dea9-df11-4b1c-88f5-3b92b4f1de02",
   "metadata": {},
   "outputs": [
    {
     "name": "stdout",
     "output_type": "stream",
     "text": [
      "i의 값: 1, 합계: 1\n",
      "i의 값: 2, 합계: 3\n",
      "i의 값: 3, 합계: 6\n",
      "i의 값: 4, 합계: 10\n",
      "i의 값: 5, 합계: 15\n"
     ]
    }
   ],
   "source": [
    "sum = 0 # 초기화 \n",
    "\n",
    "for i in range(1,6): \n",
    "    sum = sum + i\n",
    "    print(\"i의 값: %d, 합계: %d\"%(i, sum)) "
   ]
  },
  {
   "cell_type": "code",
   "execution_count": 108,
   "id": "5ff79fbd-a9ff-4592-bace-45b52955f192",
   "metadata": {},
   "outputs": [
    {
     "name": "stdout",
     "output_type": "stream",
     "text": [
      "1 3 5 7 9 "
     ]
    }
   ],
   "source": [
    "for i in range(1, 10, 2): \n",
    "    print(i, end=' ')\n",
    "    # print(i)\n",
    "    # end = ' ' >> 결과값을 한 줄로 공백(' ') 으로 구분하여 출력 "
   ]
  },
  {
   "cell_type": "code",
   "execution_count": 110,
   "id": "55bebb34-c890-4b1d-b55b-6338e7b50e74",
   "metadata": {},
   "outputs": [
    {
     "name": "stdout",
     "output_type": "stream",
     "text": [
      "m u l t i - c a m p u s "
     ]
    }
   ],
   "source": [
    "for char in \"multi-campus\" : \n",
    "    print(char, end=' ')"
   ]
  },
  {
   "cell_type": "code",
   "execution_count": 116,
   "id": "cdeab64f-5a0f-4812-9a18-c48a88de5cdf",
   "metadata": {},
   "outputs": [
    {
     "name": "stdout",
     "output_type": "stream",
     "text": [
      "1 2 3 4 \n",
      "2 4 6 8 \n",
      "3 6 9 12 \n",
      "4 8 12 16 \n"
     ]
    }
   ],
   "source": [
    "# 이중 for 문 (for 문 중첩) \n",
    "\n",
    "for i in range(1,5): \n",
    "    for j in range(1,5):\n",
    "        print(i * j, end= ' ') \n",
    "    # print('*' * 10)\n",
    "    print()"
   ]
  },
  {
   "cell_type": "code",
   "execution_count": 118,
   "id": "d4d4eb31-578c-4db3-a40e-cf76dc9b531c",
   "metadata": {},
   "outputs": [
    {
     "name": "stdout",
     "output_type": "stream",
     "text": [
      "2 * 1 = 2\n",
      "2 * 2 = 4\n",
      "2 * 3 = 6\n",
      "2 * 4 = 8\n",
      "2 * 5 = 10\n",
      "2 * 6 = 12\n",
      "2 * 7 = 14\n",
      "2 * 8 = 16\n",
      "2 * 9 = 18\n",
      "********************\n",
      "3 * 1 = 3\n",
      "3 * 2 = 6\n",
      "3 * 3 = 9\n",
      "3 * 4 = 12\n",
      "3 * 5 = 15\n",
      "3 * 6 = 18\n",
      "3 * 7 = 21\n",
      "3 * 8 = 24\n",
      "3 * 9 = 27\n",
      "********************\n",
      "4 * 1 = 4\n",
      "4 * 2 = 8\n",
      "4 * 3 = 12\n",
      "4 * 4 = 16\n",
      "4 * 5 = 20\n",
      "4 * 6 = 24\n",
      "4 * 7 = 28\n",
      "4 * 8 = 32\n",
      "4 * 9 = 36\n",
      "********************\n",
      "5 * 1 = 5\n",
      "5 * 2 = 10\n",
      "5 * 3 = 15\n",
      "5 * 4 = 20\n",
      "5 * 5 = 25\n",
      "5 * 6 = 30\n",
      "5 * 7 = 35\n",
      "5 * 8 = 40\n",
      "5 * 9 = 45\n",
      "********************\n",
      "6 * 1 = 6\n",
      "6 * 2 = 12\n",
      "6 * 3 = 18\n",
      "6 * 4 = 24\n",
      "6 * 5 = 30\n",
      "6 * 6 = 36\n",
      "6 * 7 = 42\n",
      "6 * 8 = 48\n",
      "6 * 9 = 54\n",
      "********************\n",
      "7 * 1 = 7\n",
      "7 * 2 = 14\n",
      "7 * 3 = 21\n",
      "7 * 4 = 28\n",
      "7 * 5 = 35\n",
      "7 * 6 = 42\n",
      "7 * 7 = 49\n",
      "7 * 8 = 56\n",
      "7 * 9 = 63\n",
      "********************\n",
      "8 * 1 = 8\n",
      "8 * 2 = 16\n",
      "8 * 3 = 24\n",
      "8 * 4 = 32\n",
      "8 * 5 = 40\n",
      "8 * 6 = 48\n",
      "8 * 7 = 56\n",
      "8 * 8 = 64\n",
      "8 * 9 = 72\n",
      "********************\n",
      "9 * 1 = 9\n",
      "9 * 2 = 18\n",
      "9 * 3 = 27\n",
      "9 * 4 = 36\n",
      "9 * 5 = 45\n",
      "9 * 6 = 54\n",
      "9 * 7 = 63\n",
      "9 * 8 = 72\n",
      "9 * 9 = 81\n",
      "********************\n"
     ]
    }
   ],
   "source": [
    "# 구구단 출력 \n",
    "\n",
    "for i in range(2,10): \n",
    "    for j in range(1,10): \n",
    "        print(\"%d * %d = %d\"% (i, j, i*j)) \n",
    "    print('*'*20)"
   ]
  },
  {
   "cell_type": "code",
   "execution_count": 120,
   "id": "14706f01-e7de-4536-af19-2c19ed782fd2",
   "metadata": {},
   "outputs": [
    {
     "name": "stdout",
     "output_type": "stream",
     "text": [
      "2 * 1 = 2 2 * 2 = 4 2 * 3 = 6 2 * 4 = 8 2 * 5 = 10 2 * 6 = 12 2 * 7 = 14 2 * 8 = 16 2 * 9 = 18 \n",
      "3 * 1 = 3 3 * 2 = 6 3 * 3 = 9 3 * 4 = 12 3 * 5 = 15 3 * 6 = 18 3 * 7 = 21 3 * 8 = 24 3 * 9 = 27 \n",
      "4 * 1 = 4 4 * 2 = 8 4 * 3 = 12 4 * 4 = 16 4 * 5 = 20 4 * 6 = 24 4 * 7 = 28 4 * 8 = 32 4 * 9 = 36 \n",
      "5 * 1 = 5 5 * 2 = 10 5 * 3 = 15 5 * 4 = 20 5 * 5 = 25 5 * 6 = 30 5 * 7 = 35 5 * 8 = 40 5 * 9 = 45 \n",
      "6 * 1 = 6 6 * 2 = 12 6 * 3 = 18 6 * 4 = 24 6 * 5 = 30 6 * 6 = 36 6 * 7 = 42 6 * 8 = 48 6 * 9 = 54 \n",
      "7 * 1 = 7 7 * 2 = 14 7 * 3 = 21 7 * 4 = 28 7 * 5 = 35 7 * 6 = 42 7 * 7 = 49 7 * 8 = 56 7 * 9 = 63 \n",
      "8 * 1 = 8 8 * 2 = 16 8 * 3 = 24 8 * 4 = 32 8 * 5 = 40 8 * 6 = 48 8 * 7 = 56 8 * 8 = 64 8 * 9 = 72 \n",
      "9 * 1 = 9 9 * 2 = 18 9 * 3 = 27 9 * 4 = 36 9 * 5 = 45 9 * 6 = 54 9 * 7 = 63 9 * 8 = 72 9 * 9 = 81 \n"
     ]
    }
   ],
   "source": [
    "for i in range(2,10): \n",
    "    for j in range(1,10): \n",
    "        print(\"%d * %d = %d\"% (i, j, i*j), end=' ')\n",
    "    print()"
   ]
  },
  {
   "cell_type": "code",
   "execution_count": 123,
   "id": "1143395c-157b-4553-aea4-ffd9f17ef090",
   "metadata": {},
   "outputs": [
    {
     "name": "stdout",
     "output_type": "stream",
     "text": [
      "multi campus\n",
      "multi campus\n",
      "multi campus\n",
      "multi campus\n",
      "multi campus\n"
     ]
    }
   ],
   "source": [
    "# while \n",
    "\n",
    "i = 1\n",
    "while (i <= 5): \n",
    "    print(\"multi campus\") \n",
    "    i += 1  # i = i +1 (정지조건 >> 없으면 무한 반복 지옥)"
   ]
  },
  {
   "cell_type": "code",
   "execution_count": 125,
   "id": "d9a2b7e3-23ae-481e-b813-3eb1a5888cee",
   "metadata": {},
   "outputs": [
    {
     "name": "stdout",
     "output_type": "stream",
     "text": [
      "i의 값: 1, 합계: 1\n",
      "i의 값: 2, 합계: 3\n",
      "i의 값: 3, 합계: 6\n",
      "i의 값: 4, 합계: 10\n",
      "i의 값: 5, 합계: 15\n"
     ]
    }
   ],
   "source": [
    "sum = 0 \n",
    "i = 1\n",
    "\n",
    "while (i <= 5): \n",
    "    sum = sum + i\n",
    "    print(\"i의 값: %d, 합계: %d\"%(i, sum))\n",
    "    i = i +1"
   ]
  },
  {
   "cell_type": "code",
   "execution_count": 128,
   "id": "e20da7f1-9f7b-4778-b86c-f1459def92fc",
   "metadata": {},
   "outputs": [
    {
     "name": "stdout",
     "output_type": "stream",
     "text": [
      "12\n",
      "t\n",
      "m u l t i   c a m p u s "
     ]
    }
   ],
   "source": [
    "i = 0\n",
    "s = \"multi campus\" \n",
    "print(len(s))\n",
    "print(s[3])\n",
    "\n",
    "while i <= (len(s) -1): \n",
    "    print(s[i], end= ' ') \n",
    "    i += 1  # 정지조건"
   ]
  },
  {
   "cell_type": "code",
   "execution_count": 129,
   "id": "c47b55ec-8469-4e5b-ac8b-2e3a561150ea",
   "metadata": {},
   "outputs": [
    {
     "name": "stdout",
     "output_type": "stream",
     "text": [
      "0 1 2 3 4 5 6 7 8 9 "
     ]
    }
   ],
   "source": [
    "i = 0 \n",
    "while i < 100: \n",
    "    print(i, end = ' ') \n",
    "    i += 1\n",
    "    if i == 10: \n",
    "        break "
   ]
  },
  {
   "cell_type": "markdown",
   "id": "c6d6903f-f9fc-4663-b9d1-79fcf5476624",
   "metadata": {},
   "source": [
    "[ 기출 응용 ] 평균 점수 계산"
   ]
  },
  {
   "cell_type": "code",
   "execution_count": 134,
   "id": "661a8905-ecd6-4049-9053-95730be34ca8",
   "metadata": {},
   "outputs": [
    {
     "name": "stdout",
     "output_type": "stream",
     "text": [
      "723\n",
      "평균은 72.30입니다.\n"
     ]
    }
   ],
   "source": [
    "# for 문 활용 \n",
    "\n",
    "a = [70,60,55,95,80,70,85,47,83,78] \n",
    "\n",
    "sum = 0 \n",
    "avg = 0 \n",
    "\n",
    "for i in a:\n",
    "    sum = sum + i\n",
    "\n",
    "avg = sum / len(a)\n",
    "\n",
    "print(sum)\n",
    "print(\"평균은 %.2f입니다.\"%avg)"
   ]
  },
  {
   "cell_type": "code",
   "execution_count": 135,
   "id": "03bc32b1-c18c-4538-8211-a896ca4c4523",
   "metadata": {},
   "outputs": [
    {
     "name": "stdout",
     "output_type": "stream",
     "text": [
      "723\n",
      "평균은 72.30입니다.\n"
     ]
    }
   ],
   "source": [
    "# while 문 \n",
    "\n",
    "a = [70,60,55,95,80,70,85,47,83,78] \n",
    "\n",
    "sum = 0 \n",
    "avg = 0 \n",
    "\n",
    "i = 0\n",
    "while (i < len(a)): \n",
    "    sum = sum + a[i]\n",
    "    i += 1\n",
    "\n",
    "avg = sum / len(a)\n",
    "\n",
    "print(sum)\n",
    "print(\"평균은 %.2f입니다.\"%avg)"
   ]
  },
  {
   "cell_type": "code",
   "execution_count": null,
   "id": "c994eb16-e9c5-4758-9aea-6ed9b0d96079",
   "metadata": {},
   "outputs": [],
   "source": []
  }
 ],
 "metadata": {
  "kernelspec": {
   "display_name": "Python 3 (ipykernel)",
   "language": "python",
   "name": "python3"
  },
  "language_info": {
   "codemirror_mode": {
    "name": "ipython",
    "version": 3
   },
   "file_extension": ".py",
   "mimetype": "text/x-python",
   "name": "python",
   "nbconvert_exporter": "python",
   "pygments_lexer": "ipython3",
   "version": "3.11.7"
  }
 },
 "nbformat": 4,
 "nbformat_minor": 5
}
