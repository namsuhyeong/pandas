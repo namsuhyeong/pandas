{
 "cells": [
  {
   "cell_type": "code",
   "execution_count": 1,
   "metadata": {},
   "outputs": [
    {
     "data": {
      "text/plain": [
       "[0, 1, 2, 3, 4, 5, 6, 7, 8, 9]"
      ]
     },
     "execution_count": 1,
     "metadata": {},
     "output_type": "execute_result"
    }
   ],
   "source": [
    "# 배열 만들기\n",
    "list(range(10))"
   ]
  },
  {
   "cell_type": "code",
   "execution_count": 2,
   "metadata": {},
   "outputs": [
    {
     "data": {
      "text/plain": [
       "array([1, 2, 3, 4, 5])"
      ]
     },
     "execution_count": 2,
     "metadata": {},
     "output_type": "execute_result"
    }
   ],
   "source": [
    "import numpy as np\n",
    "\n",
    "np.array([1,2,3,4,5])"
   ]
  },
  {
   "cell_type": "code",
   "execution_count": 4,
   "metadata": {},
   "outputs": [
    {
     "name": "stdout",
     "output_type": "stream",
     "text": [
      "[3.  1.4 2.  3.  4.5]\n"
     ]
    }
   ],
   "source": [
    "print(np.array([3,1.4,2,3,4.5]))\n",
    "\n",
    "# 넘파이의 array는 단일 데이터 타입\n",
    "# 정수, 실수 >> 실수 변경됨"
   ]
  },
  {
   "cell_type": "code",
   "execution_count": 5,
   "metadata": {},
   "outputs": [
    {
     "data": {
      "text/plain": [
       "array([[1, 2],\n",
       "       [3, 4]])"
      ]
     },
     "execution_count": 5,
     "metadata": {},
     "output_type": "execute_result"
    }
   ],
   "source": [
    "np.array([[1,2],[3,4]])"
   ]
  },
  {
   "cell_type": "code",
   "execution_count": 11,
   "metadata": {},
   "outputs": [
    {
     "name": "stdout",
     "output_type": "stream",
     "text": [
      "[1 2 3 4]\n",
      "\n",
      "[1. 2. 3. 4.]\n",
      "\n",
      "[1. 2. 3. 4.]\n",
      "float64\n",
      "[1 2 3 4]\n"
     ]
    }
   ],
   "source": [
    "print(np.array([1,2,3,4]))\n",
    "print()\n",
    "print(np.array([1,2,3,4],dtype=float))\n",
    "\n",
    "print()\n",
    "arr = np.array([1,2,3,4],dtype=float)\n",
    "print(arr)\n",
    "print(arr.dtype)\n",
    "# astype() :  데이터 타입 변경\n",
    "print(arr.astype(int))"
   ]
  },
  {
   "cell_type": "code",
   "execution_count": 16,
   "metadata": {},
   "outputs": [
    {
     "name": "stdout",
     "output_type": "stream",
     "text": [
      "[0 0 0 0 0 0 0 0 0 0]\n",
      "\n",
      "[[1. 1. 1. 1. 1.]\n",
      " [1. 1. 1. 1. 1.]\n",
      " [1. 1. 1. 1. 1.]]\n",
      "\n",
      "[ 0  2  4  6  8 10 12 14 16 18]\n",
      "\n",
      "[0.   0.25 0.5  0.75 1.  ]\n"
     ]
    }
   ],
   "source": [
    "# 다양한 배열 만들기\n",
    "print(np.zeros(10, dtype=int))\n",
    "print()\n",
    "\n",
    "print(np.ones((3, 5), dtype=float))\n",
    "print()\n",
    "\n",
    "print(np.arange(0, 20, 2))\n",
    "print()\n",
    "\n",
    "print(np.linspace(0, 1, 5))"
   ]
  },
  {
   "cell_type": "code",
   "execution_count": 17,
   "metadata": {},
   "outputs": [
    {
     "name": "stdout",
     "output_type": "stream",
     "text": [
      "[[0.39834315 0.89479676]\n",
      " [0.43770215 0.98578184]]\n",
      "\n",
      "[[ 0.59076673  2.52333395]\n",
      " [ 0.0999416  -0.24452999]]\n",
      "\n",
      "[[7 4]\n",
      " [0 9]]\n"
     ]
    }
   ],
   "source": [
    "# 난수로 채워진 배열 만들기\n",
    "print(np.random.random((2, 2)))\n",
    "print()\n",
    "\n",
    "print(np.random.normal(0, 1, (2, 2)))\n",
    "print()\n",
    "\n",
    "print(np.random.randint(0, 10, (2, 2)))"
   ]
  },
  {
   "cell_type": "code",
   "execution_count": 19,
   "metadata": {},
   "outputs": [
    {
     "name": "stdout",
     "output_type": "stream",
     "text": [
      "2\n",
      "\n",
      "(3, 4)\n",
      "\n",
      "12\n",
      "\n",
      "int32\n",
      "\n"
     ]
    }
   ],
   "source": [
    "# 배열의 기초\n",
    "x2 = np.random.randint(10, size=(3, 4))\n",
    "\n",
    "print(x2.ndim)\n",
    "print()\n",
    "\n",
    "print(x2.shape)\n",
    "print()\n",
    "\n",
    "print(x2.size)\n",
    "print()\n",
    "\n",
    "print(x2.dtype)\n",
    "print()"
   ]
  },
  {
   "cell_type": "code",
   "execution_count": 25,
   "metadata": {},
   "outputs": [
    {
     "name": "stdout",
     "output_type": "stream",
     "text": [
      "3\n",
      "\n",
      "[10  1  2  3  4  5  6]\n"
     ]
    }
   ],
   "source": [
    "# indexing\n",
    "x = np.arange(7)\n",
    "\n",
    "print(x[3])\n",
    "print()\n",
    "\n",
    "# print(x[7])\n",
    "# print()\n",
    "# index 7 is out of bounds for axis 0 with size 7\n",
    "\n",
    "x[0] = 10\n",
    "print(x)"
   ]
  },
  {
   "cell_type": "code",
   "execution_count": 41,
   "metadata": {},
   "outputs": [
    {
     "name": "stdout",
     "output_type": "stream",
     "text": [
      "[1 2 3]\n",
      "\n",
      "[1 2 3 4 5 6]\n",
      "\n",
      "[0 1 2 3]\n",
      "\n",
      "[0 2 4 6]\n",
      "\n",
      "[6 5 4 3 2 1 0]\n"
     ]
    }
   ],
   "source": [
    "# slicing\n",
    "x = np.arange(7)\n",
    "\n",
    "print(x[1:4])\n",
    "print()\n",
    "\n",
    "print(x[1:])\n",
    "print()\n",
    "\n",
    "print(x[:4])\n",
    "print()\n",
    "\n",
    "print(x[::2])\n",
    "print()\n",
    "print(x[::-1]) # 역순 출력 (***)"
   ]
  },
  {
   "cell_type": "code",
   "execution_count": 28,
   "metadata": {},
   "outputs": [
    {
     "name": "stdout",
     "output_type": "stream",
     "text": [
      "(8,)\n"
     ]
    },
    {
     "data": {
      "text/plain": [
       "(2, 4)"
      ]
     },
     "execution_count": 28,
     "metadata": {},
     "output_type": "execute_result"
    }
   ],
   "source": [
    "# reshape (****)\n",
    "x = np.arange(8)\n",
    "print(x.shape)\n",
    "\n",
    "x2 = x.reshape((2, 4))\n",
    "x2.shape"
   ]
  },
  {
   "cell_type": "code",
   "execution_count": 29,
   "metadata": {},
   "outputs": [
    {
     "data": {
      "text/plain": [
       "array([0, 1, 2, 3, 4, 5])"
      ]
     },
     "execution_count": 29,
     "metadata": {},
     "output_type": "execute_result"
    }
   ],
   "source": [
    "# concatenate\n",
    "x = np.array([0, 1, 2])\n",
    "y = np.array([3, 4, 5])\n",
    "np.concatenate([x, y])"
   ]
  },
  {
   "cell_type": "code",
   "execution_count": 34,
   "metadata": {},
   "outputs": [
    {
     "name": "stdout",
     "output_type": "stream",
     "text": [
      "[[0 1]\n",
      " [2 3]]\n"
     ]
    },
    {
     "data": {
      "text/plain": [
       "array([[0, 1],\n",
       "       [2, 3],\n",
       "       [0, 1],\n",
       "       [2, 3]])"
      ]
     },
     "execution_count": 34,
     "metadata": {},
     "output_type": "execute_result"
    }
   ],
   "source": [
    "print(np.arange(4).reshape(2,2))\n",
    "matrix = np.arange(4).reshape(2, 2)\n",
    "np.concatenate([matrix, matrix], axis=0)"
   ]
  },
  {
   "cell_type": "code",
   "execution_count": 35,
   "metadata": {},
   "outputs": [
    {
     "name": "stdout",
     "output_type": "stream",
     "text": [
      "[[0 1]\n",
      " [2 3]]\n"
     ]
    },
    {
     "data": {
      "text/plain": [
       "array([[0, 1, 0, 1],\n",
       "       [2, 3, 2, 3]])"
      ]
     },
     "execution_count": 35,
     "metadata": {},
     "output_type": "execute_result"
    }
   ],
   "source": [
    "matrix = np.arange(4).reshape(2, 2)\n",
    "print(matrix)\n",
    "np.concatenate([matrix, matrix], axis=1)"
   ]
  },
  {
   "cell_type": "code",
   "execution_count": 38,
   "metadata": {},
   "outputs": [
    {
     "name": "stdout",
     "output_type": "stream",
     "text": [
      "[[ 0  1  2  3]\n",
      " [ 4  5  6  7]\n",
      " [ 8  9 10 11]\n",
      " [12 13 14 15]]\n",
      "\n",
      "[[ 0  1  2  3]\n",
      " [ 4  5  6  7]\n",
      " [ 8  9 10 11]]\n",
      "\n",
      "[[12 13 14 15]]\n"
     ]
    }
   ],
   "source": [
    "# split\n",
    "matrix = np.arange(16).reshape(4, 4)\n",
    "print(matrix)\n",
    "print()\n",
    "\n",
    "upper, lower = np.split(matrix, [3], axis=0)\n",
    "print(upper)\n",
    "print()\n",
    "print(lower)\n"
   ]
  },
  {
   "cell_type": "code",
   "execution_count": 39,
   "metadata": {},
   "outputs": [
    {
     "name": "stdout",
     "output_type": "stream",
     "text": [
      "[[ 0  1  2  3]\n",
      " [ 4  5  6  7]\n",
      " [ 8  9 10 11]\n",
      " [12 13 14 15]]\n",
      "\n",
      "[[ 0  1  2]\n",
      " [ 4  5  6]\n",
      " [ 8  9 10]\n",
      " [12 13 14]]\n",
      "\n",
      "[[ 3]\n",
      " [ 7]\n",
      " [11]\n",
      " [15]]\n"
     ]
    }
   ],
   "source": [
    "matrix = np.arange(16).reshape(4, 4)\n",
    "print(matrix)\n",
    "print()\n",
    "\n",
    "left, right = np.split(matrix, [3], axis=1)\n",
    "print(left)\n",
    "print()\n",
    "print(right)"
   ]
  },
  {
   "cell_type": "code",
   "execution_count": 42,
   "metadata": {},
   "outputs": [
    {
     "data": {
      "text/plain": [
       "array([12.,  8.,  9.,  6.,  9.])"
      ]
     },
     "execution_count": 42,
     "metadata": {},
     "output_type": "execute_result"
    }
   ],
   "source": [
    "# array의 모든 원소에 5를 더해서 만드는 함수\n",
    "def add_five_to_array(values):\n",
    "    output = np.empty(len(values))\n",
    "    for i in range(len(values)):\n",
    "        output[i] = values[i] +5\n",
    "        \n",
    "    return output\n",
    "\n",
    "values = np.random.randint(1,10,size=5)\n",
    "add_five_to_array(values)"
   ]
  },
  {
   "cell_type": "code",
   "execution_count": 43,
   "metadata": {},
   "outputs": [
    {
     "data": {
      "text/plain": [
       "array([73, 27, 45, ..., 88, 94, 31])"
      ]
     },
     "execution_count": 43,
     "metadata": {},
     "output_type": "execute_result"
    }
   ],
   "source": [
    "# 만약 array가 너무 크다면?\n",
    "big_array = np.random.randint(1, 100, size=10000000)\n",
    "add_five_to_array(big_array)\n",
    "big_array + 5"
   ]
  },
  {
   "cell_type": "code",
   "execution_count": 44,
   "metadata": {},
   "outputs": [
    {
     "name": "stdout",
     "output_type": "stream",
     "text": [
      "[5 6 7 8]\n",
      "[-5 -4 -3 -2]\n",
      "[ 0  5 10 15]\n",
      "[0.  0.2 0.4 0.6]\n"
     ]
    }
   ],
   "source": [
    "x = np.arange(4)\n",
    "\n",
    "print(x + 5)\n",
    "\n",
    "print(x - 5)\n",
    "\n",
    "print(x * 5)\n",
    "\n",
    "print(x / 5)\n"
   ]
  },
  {
   "cell_type": "code",
   "execution_count": 47,
   "metadata": {},
   "outputs": [
    {
     "name": "stdout",
     "output_type": "stream",
     "text": [
      "[[9 6]\n",
      " [9 9]]\n",
      "[[-9 -4]\n",
      " [-5 -3]]\n"
     ]
    }
   ],
   "source": [
    "x1 = np.arange(4).reshape((2, 2))\n",
    "x2 = np.random.randint(10, size=(2, 2))\n",
    "\n",
    "print(x1 + x2)\n",
    "print(x1- x2)"
   ]
  },
  {
   "cell_type": "code",
   "execution_count": 48,
   "metadata": {},
   "outputs": [
    {
     "name": "stdout",
     "output_type": "stream",
     "text": [
      "28\n",
      "0\n",
      "7\n",
      "3.5\n"
     ]
    }
   ],
   "source": [
    "# 집계함수\n",
    "x = np.arange(8).reshape((2, 4))\n",
    "print(np.sum(x))\n",
    "\n",
    "print(np.min(x))\n",
    "\n",
    "print(np.max(x))\n",
    "\n",
    "print(np.mean(x))"
   ]
  },
  {
   "cell_type": "code",
   "execution_count": 49,
   "metadata": {},
   "outputs": [
    {
     "name": "stdout",
     "output_type": "stream",
     "text": [
      "[ 4  6  8 10]\n",
      "[ 6 22]\n"
     ]
    }
   ],
   "source": [
    "x = np.arange(8).reshape((2, 4))\n",
    "print(np.sum(x, axis=0))\n",
    "# array([ 4, 6, 8, 10])\n",
    "print(np.sum(x, axis=1))"
   ]
  },
  {
   "cell_type": "code",
   "execution_count": 50,
   "metadata": {},
   "outputs": [
    {
     "name": "stdout",
     "output_type": "stream",
     "text": [
      "[ True  True  True False False]\n",
      "[False False False False False]\n",
      "[0 1 2]\n"
     ]
    }
   ],
   "source": [
    "# 마스킹 연산\n",
    "x = np.arange(5)\n",
    "\n",
    "print(x < 3)\n",
    "\n",
    "print(x > 5)\n",
    "\n",
    "print(x[x < 3])"
   ]
  },
  {
   "cell_type": "code",
   "execution_count": null,
   "metadata": {},
   "outputs": [],
   "source": []
  }
 ],
 "metadata": {
  "kernelspec": {
   "display_name": "base",
   "language": "python",
   "name": "python3"
  },
  "language_info": {
   "codemirror_mode": {
    "name": "ipython",
    "version": 3
   },
   "file_extension": ".py",
   "mimetype": "text/x-python",
   "name": "python",
   "nbconvert_exporter": "python",
   "pygments_lexer": "ipython3",
   "version": "3.11.7"
  }
 },
 "nbformat": 4,
 "nbformat_minor": 2
}
